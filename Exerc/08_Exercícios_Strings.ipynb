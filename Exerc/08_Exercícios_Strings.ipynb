{
 "cells": [
  {
   "cell_type": "markdown",
   "id": "b832a2ac",
   "metadata": {},
   "source": [
    "<div style=\"text-align: center\"> <p><h1> Exercícios </h1><br> DOWNEY AB, em Python P. pense como um cientista da computação. São Paulo: Novatec. 2016.</p> </div>"
   ]
  },
  {
   "cell_type": "markdown",
   "id": "d1f74df5",
   "metadata": {},
   "source": [
    "<div style=\"text-align: left\"> <strong> Exercício 1</strong><ol>\n",
    "<p>\n",
    "   Uma fatia de string pode receber um terceiro índice que especifique o “tamanho do\n",
    "passo”; isto é, o número de espaços entre caracteres sucessivos. Um tamanho de passo 2\n",
    "significa tomar um caractere e outro não; 3 significa tomar um e dois não etc.\n",
    "<br>>>> fruit = 'banana'\n",
    "<br>>>> fruit[0:5:2]\n",
    "<br>'bnn'\n",
    "<br><br> Como gerar uma string invertida?\n",
    "</p> </ol> </div>"
   ]
  },
  {
   "cell_type": "code",
   "execution_count": 1,
   "id": "2317cecf",
   "metadata": {},
   "outputs": [
    {
     "data": {
      "text/plain": [
       "'ananab'"
      ]
     },
     "execution_count": 1,
     "metadata": {},
     "output_type": "execute_result"
    }
   ],
   "source": [
    "fruit ='banana'\n",
    "fruit[::-1]"
   ]
  },
  {
   "cell_type": "markdown",
   "id": "3027cbc5",
   "metadata": {},
   "source": [
    "<div style=\"text-align: left\"> <strong> Exercício 2</strong><ol>\n",
    "<p>\n",
    "As seguintes funções pretendem verificar se uma string contém alguma letra minúscula,\n",
    "mas algumas delas estão erradas. Para cada função, descreva o que ela faz (assumindo que\n",
    "o parâmetro seja uma string).\n",
    "</p> </ol> </div>"
   ]
  },
  {
   "cell_type": "code",
   "execution_count": null,
   "id": "af2b267a",
   "metadata": {},
   "outputs": [],
   "source": [
    "def any_lowercase1(s):\n",
    "for c in s:\n",
    "if c.islower():\n",
    "return True\n",
    "else:\n",
    "return False\n",
    "def any_lowercase2(s):\n",
    "for c in s:\n",
    "if 'c'.islower():\n",
    "return 'True'\n",
    "else:\n",
    "return 'False'\n",
    "def any_lowercase3(s):\n",
    "for c in s:\n",
    "flag = c.islower()\n",
    "return flag\n",
    "def any_lowercase4(s):\n",
    "flag = False\n",
    "for c in s:\n",
    "flag = flag or c.islower()\n",
    "return flag\n",
    "def any_lowercase5(s):\n",
    "for c in s:\n",
    "if not c.islower():\n",
    "return False\n",
    "return True"
   ]
  }
 ],
 "metadata": {
  "kernelspec": {
   "display_name": "Python 3 (ipykernel)",
   "language": "python",
   "name": "python3"
  },
  "language_info": {
   "codemirror_mode": {
    "name": "ipython",
    "version": 3
   },
   "file_extension": ".py",
   "mimetype": "text/x-python",
   "name": "python",
   "nbconvert_exporter": "python",
   "pygments_lexer": "ipython3",
   "version": "3.10.8"
  }
 },
 "nbformat": 4,
 "nbformat_minor": 5
}
