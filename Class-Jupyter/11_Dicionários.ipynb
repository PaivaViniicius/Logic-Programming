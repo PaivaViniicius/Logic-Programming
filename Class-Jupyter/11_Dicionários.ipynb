{
 "cells": [
  {
   "cell_type": "markdown",
   "id": "fe474443",
   "metadata": {
    "slideshow": {
     "slide_type": "slide"
    }
   },
   "source": [
    "<div style=\"text-align: center\"> <h1> \n",
    "Dicionários\n",
    "    </h1> </div>"
   ]
  },
  {
   "cell_type": "markdown",
   "id": "cf3cc30d",
   "metadata": {
    "slideshow": {
     "slide_type": "subslide"
    }
   },
   "source": [
    "Dicionários são um dos\n",
    "melhores recursos do Python; eles são os blocos de montar de muitos algoritmos eficientes\n",
    "e elegantes."
   ]
  },
  {
   "cell_type": "markdown",
   "id": "dd31400c",
   "metadata": {
    "slideshow": {
     "slide_type": "slide"
    }
   },
   "source": [
    "<div style=\"text-align: center\"> <h2> \n",
    "Um dicionário é um mapeamento\n",
    "    </h2> </div>"
   ]
  },
  {
   "cell_type": "markdown",
   "id": "1295c746",
   "metadata": {
    "slideshow": {
     "slide_type": "subslide"
    }
   },
   "source": [
    "Um dicionário se parece com uma lista, mas é mais geral. Em uma lista, os índices têm\n",
    "que ser números inteiros; em um dicionário, eles podem ser de (quase) qualquer tipo.\n",
    "Um dicionário contém uma coleção de índices, que se chamam chaves e uma coleção de\n",
    "valores. Cada chave é associada com um único valor. A associação de uma chave e um\n",
    "valor chama-se par chave-valor ou item.\n",
    "Em linguagem matemática, um dicionário representa um mapeamento de chaves a valores,\n",
    "para que você possa dizer que cada chave “mostra o mapa a” um valor. Como exemplo,\n",
    "vamos construir um dicionário que faz o mapa de palavras do inglês ao português, portanto\n",
    "as chaves e os valores são todos strings."
   ]
  },
  {
   "cell_type": "code",
   "execution_count": 5,
   "id": "7140ff19",
   "metadata": {
    "slideshow": {
     "slide_type": "fragment"
    }
   },
   "outputs": [
    {
     "data": {
      "text/plain": [
       "{}"
      ]
     },
     "execution_count": 5,
     "metadata": {},
     "output_type": "execute_result"
    }
   ],
   "source": [
    "\"\"\"A função dict cria um novo dicionário sem itens. Como dict é o nome de uma função\n",
    "integrada, você deve evitar usá-lo como nome de variável.\n",
    "\"\"\"\n",
    "eng2pr = dict()\n",
    "eng2pr"
   ]
  },
  {
   "cell_type": "code",
   "execution_count": 7,
   "id": "0362f187",
   "metadata": {
    "slideshow": {
     "slide_type": "fragment"
    }
   },
   "outputs": [],
   "source": [
    "\"\"\"As chaves {} representam um dicionário vazio. Para acrescentar itens ao dicionário, você\n",
    "pode usar colchetes:\n",
    "\"\"\"\n",
    "eng2pr['one'] = 'um'"
   ]
  },
  {
   "cell_type": "code",
   "execution_count": 8,
   "id": "a9d99e8f",
   "metadata": {
    "slideshow": {
     "slide_type": "fragment"
    }
   },
   "outputs": [
    {
     "data": {
      "text/plain": [
       "{'one': 'um'}"
      ]
     },
     "execution_count": 8,
     "metadata": {},
     "output_type": "execute_result"
    }
   ],
   "source": [
    "\"\"\"Esta linha cria um item que mapeia da chave ‘one’ ao valor ‘uno’. Se imprimirmos o\n",
    "dicionário novamente, vemos um par chave-valor com dois pontos entre a chave e o valor:\"\"\"\n",
    "eng2pr"
   ]
  },
  {
   "cell_type": "code",
   "execution_count": 10,
   "id": "9014edbd",
   "metadata": {
    "slideshow": {
     "slide_type": "fragment"
    }
   },
   "outputs": [
    {
     "data": {
      "text/plain": [
       "{'one': 'um', 'two': 'dois', 'three': 'três'}"
      ]
     },
     "execution_count": 10,
     "metadata": {},
     "output_type": "execute_result"
    }
   ],
   "source": [
    "\"\"\"Este formato de saída também é um formato de entrada. Por exemplo, você pode criar um\n",
    "dicionário com três itens:\"\"\"\n",
    "eng2pr = {'one': 'um', 'two': 'dois', 'three': 'três'}\n",
    "eng2pr"
   ]
  },
  {
   "cell_type": "markdown",
   "id": "ebe0f88e",
   "metadata": {
    "slideshow": {
     "slide_type": "slide"
    }
   },
   "source": [
    "A ordem dos pares chave-valor pode não ser a mesma. Se você digitar o mesmo exemplo\n",
    "no seu computador, pode receber um resultado diferente. Em geral, a ordem dos itens em\n",
    "um dicionário é imprevisível.\n",
    "No entanto, isso não é um problema porque os elementos de um dicionário nunca são\n",
    "indexados com índices de números inteiros. Em vez disso, você usa as chaves para\n",
    "procurar os valores correspondentes:"
   ]
  },
  {
   "cell_type": "code",
   "execution_count": 11,
   "id": "dabb1aeb",
   "metadata": {
    "slideshow": {
     "slide_type": "fragment"
    }
   },
   "outputs": [
    {
     "data": {
      "text/plain": [
       "'dois'"
      ]
     },
     "execution_count": 11,
     "metadata": {},
     "output_type": "execute_result"
    }
   ],
   "source": [
    "eng2pr['two']"
   ]
  },
  {
   "cell_type": "code",
   "execution_count": 12,
   "id": "c1bad558",
   "metadata": {
    "scrolled": true,
    "slideshow": {
     "slide_type": "fragment"
    }
   },
   "outputs": [
    {
     "ename": "KeyError",
     "evalue": "'four'",
     "output_type": "error",
     "traceback": [
      "\u001b[1;31m---------------------------------------------------------------------------\u001b[0m",
      "\u001b[1;31mKeyError\u001b[0m                                  Traceback (most recent call last)",
      "\u001b[1;32m~\\AppData\\Local\\Temp/ipykernel_8032/334690384.py\u001b[0m in \u001b[0;36m<module>\u001b[1;34m\u001b[0m\n\u001b[0;32m      1\u001b[0m \"\"\"A chave 'two' sempre mapeia ao valor 'dos', assim a ordem dos itens não importa.\n\u001b[0;32m      2\u001b[0m Se a chave não estiver no dicionário, você recebe uma exceção:\"\"\"\n\u001b[1;32m----> 3\u001b[1;33m \u001b[0meng2pr\u001b[0m\u001b[1;33m[\u001b[0m\u001b[1;34m'four'\u001b[0m\u001b[1;33m]\u001b[0m\u001b[1;33m\u001b[0m\u001b[1;33m\u001b[0m\u001b[0m\n\u001b[0m",
      "\u001b[1;31mKeyError\u001b[0m: 'four'"
     ]
    }
   ],
   "source": [
    "\"\"\"A chave 'two' sempre mapeia ao valor 'dos', assim a ordem dos itens não importa.\n",
    "Se a chave não estiver no dicionário, você recebe uma exceção:\"\"\"\n",
    "eng2pr['four']"
   ]
  },
  {
   "cell_type": "code",
   "execution_count": 13,
   "id": "839fcc43",
   "metadata": {
    "slideshow": {
     "slide_type": "fragment"
    }
   },
   "outputs": [
    {
     "data": {
      "text/plain": [
       "3"
      ]
     },
     "execution_count": 13,
     "metadata": {},
     "output_type": "execute_result"
    }
   ],
   "source": [
    "\"\"\"A função len é compatível com dicionários; ela devolve o número de pares chave-valor:\"\"\"\n",
    "len(eng2pr)"
   ]
  },
  {
   "cell_type": "code",
   "execution_count": 14,
   "id": "91de0b91",
   "metadata": {
    "slideshow": {
     "slide_type": "fragment"
    }
   },
   "outputs": [
    {
     "data": {
      "text/plain": [
       "True"
      ]
     },
     "execution_count": 14,
     "metadata": {},
     "output_type": "execute_result"
    }
   ],
   "source": [
    "\"\"\"O operador in funciona em dicionários também; ele acusa se algo aparece como chave no\n",
    "dicionário (aparecer como valor não é o suficiente).\"\"\"\n",
    "'one' in eng2pr"
   ]
  },
  {
   "cell_type": "code",
   "execution_count": 16,
   "id": "2fde1476",
   "metadata": {
    "slideshow": {
     "slide_type": "fragment"
    }
   },
   "outputs": [
    {
     "data": {
      "text/plain": [
       "False"
      ]
     },
     "execution_count": 16,
     "metadata": {},
     "output_type": "execute_result"
    }
   ],
   "source": [
    "'um' in eng2pr"
   ]
  },
  {
   "cell_type": "code",
   "execution_count": 18,
   "id": "d204e293",
   "metadata": {
    "slideshow": {
     "slide_type": "fragment"
    }
   },
   "outputs": [
    {
     "data": {
      "text/plain": [
       "True"
      ]
     },
     "execution_count": 18,
     "metadata": {},
     "output_type": "execute_result"
    }
   ],
   "source": [
    "\"\"\"Para ver se algo aparece como um valor em um dicionário, você pode usar o método\n",
    "values, que devolve uma coleção de valores, e então usar o operador in:\"\"\"\n",
    "\n",
    "vals = eng2pr.values()\n",
    "'um' in vals"
   ]
  },
  {
   "cell_type": "markdown",
   "id": "dcbb673f",
   "metadata": {
    "slideshow": {
     "slide_type": "slide"
    }
   },
   "source": [
    "O operador in usa algoritmos diferentes para listas e dicionários. Para listas, ele procura\n",
    "os elementos da lista em ordem, como descrito em “Busca”, na página 123. Conforme a\n",
    "lista torna-se mais longa, o tempo de busca também fica proporcionalmente mais longo.\n",
    "Para dicionários, o Python usa um algoritmo chamado hashtable (tabela de dispersão), que\n",
    "tem uma propriedade notável: o operador in leva praticamente o mesmo tempo na busca,\n",
    "não importa quantos itens estejam no dicionário."
   ]
  },
  {
   "cell_type": "markdown",
   "id": "7429b4a5",
   "metadata": {
    "slideshow": {
     "slide_type": "slide"
    }
   },
   "source": [
    "<div style=\"text-align: center\"> <h2> \n",
    "Um dicionário como uma coleção de contadores\n",
    "    </h2> </div>"
   ]
  },
  {
   "cell_type": "markdown",
   "id": "b1a3d7bd",
   "metadata": {
    "slideshow": {
     "slide_type": "subslide"
    }
   },
   "source": [
    "     Suponha que você receba uma string e queira contar quantas vezes cada letra aparece nela.\n",
    "Há vários modos de fazer isso:\n",
    "        \n",
    "    1. Você pode criar 26 variáveis, uma para cada letra do alfabeto. Então pode atravessar a string e, para cada caractere, incrementar o contador correspondente, provavelmente usando uma condicional encadeada.\n",
    "        \n",
    "    2. Você pode criar uma lista com 26 elementos. Então pode converter cada caractere em um número (com a função integrada ord), usar o número como índice na lista e incrementar o respectivo contador.\n",
    "        \n",
    "    3. Você pode criar um dicionário com caracteres como chaves e contadores como valores correspondentes. Na primeira vez que visse um caractere, você acrescentaria um item ao dicionário. Depois disso, incrementaria o valor de um item existente.\n",
    "    "
   ]
  },
  {
   "cell_type": "code",
   "execution_count": 21,
   "id": "8d33042b",
   "metadata": {
    "slideshow": {
     "slide_type": "slide"
    }
   },
   "outputs": [],
   "source": [
    "\"\"\"Cada uma dessas opções executa o mesmo cálculo, mas o implementa de forma diferente.\n",
    "Uma implementação é um modo de executar um cálculo; algumas implementações são\n",
    "melhores que outras. Por exemplo, uma vantagem da implementação de dicionários é que\n",
    "não precisamos saber de antemão quais letras aparecem na string e só é preciso criar\n",
    "espaço para as letras que realmente venham a aparecer.\"\"\"\n",
    "\n",
    "def histogram(s): #O nome da função é histogram, um termo estatístico para uma coleção de contadores (ou frequências).\n",
    "    d = dict()\n",
    "    for c in s:\n",
    "        if c not in d:\n",
    "            d[c] = 1\n",
    "        else:\n",
    "            d[c] += 1\n",
    "    return d"
   ]
  },
  {
   "cell_type": "code",
   "execution_count": 22,
   "id": "4fe21f1f",
   "metadata": {
    "slideshow": {
     "slide_type": "fragment"
    }
   },
   "outputs": [
    {
     "data": {
      "text/plain": [
       "{'b': 1, 'r': 2, 'o': 2, 'n': 1, 't': 1, 's': 2, 'a': 1, 'u': 2}"
      ]
     },
     "execution_count": 22,
     "metadata": {},
     "output_type": "execute_result"
    }
   ],
   "source": [
    "\"\"\"A primeira linha da função cria um dicionário vazio. O loop for atravessa a string. Cada\n",
    "vez que passa pelo loop, se o caractere c não estiver no dicionário, criamos um item com a\n",
    "chave c e o valor inicial 1 (pois já vimos esta letra uma vez). Se o c já estiver no\n",
    "dicionário, incrementamos d [c].\n",
    "Funciona assim:\"\"\"\n",
    "h = histogram (\"brontosaurus\")\n",
    "h"
   ]
  },
  {
   "cell_type": "markdown",
   "id": "8a6172ae",
   "metadata": {
    "slideshow": {
     "slide_type": "fragment"
    }
   },
   "source": [
    "O histograma indica que as letras ‘a’ e ‘b’ aparecem uma vez; ‘o’ aparece duas vezes, e\n",
    "assim por diante."
   ]
  },
  {
   "cell_type": "code",
   "execution_count": 23,
   "id": "3f642336",
   "metadata": {
    "slideshow": {
     "slide_type": "fragment"
    }
   },
   "outputs": [
    {
     "data": {
      "text/plain": [
       "{'a': 1}"
      ]
     },
     "execution_count": 23,
     "metadata": {},
     "output_type": "execute_result"
    }
   ],
   "source": [
    "\"\"\"Os dicionários têm um método chamado get, que toma uma chave e um valor padrão. Se a\n",
    "chave aparecer no dicionário, get retorna o valor correspondente; se não for o caso, ele\n",
    "retorna o valor padrão. Por exemplo:\"\"\"\n",
    "h = histogram ('a')\n",
    "h"
   ]
  },
  {
   "cell_type": "code",
   "execution_count": 24,
   "id": "e15f5e0b",
   "metadata": {
    "slideshow": {
     "slide_type": "fragment"
    }
   },
   "outputs": [
    {
     "data": {
      "text/plain": [
       "1"
      ]
     },
     "execution_count": 24,
     "metadata": {},
     "output_type": "execute_result"
    }
   ],
   "source": [
    "h.get('a',0)"
   ]
  },
  {
   "cell_type": "code",
   "execution_count": 25,
   "id": "7ace97c7",
   "metadata": {
    "slideshow": {
     "slide_type": "fragment"
    }
   },
   "outputs": [
    {
     "data": {
      "text/plain": [
       "0"
      ]
     },
     "execution_count": 25,
     "metadata": {},
     "output_type": "execute_result"
    }
   ],
   "source": [
    "h.get('b',0)"
   ]
  },
  {
   "cell_type": "markdown",
   "id": "a9cc52b0",
   "metadata": {
    "slideshow": {
     "slide_type": "slide"
    }
   },
   "source": [
    "<div style=\"text-align: center\"> <h2> \n",
    "Loop e dicionários\n",
    "    </h2> </div>"
   ]
  },
  {
   "cell_type": "code",
   "execution_count": 26,
   "id": "11a864bd",
   "metadata": {
    "slideshow": {
     "slide_type": "fragment"
    }
   },
   "outputs": [],
   "source": [
    "\"\"\"Se usar um dicionário em uma instrução for, ela percorre as chaves do dicionário. Por\n",
    "exemplo, print_hist exibe cada chave e o valor correspondente:\"\"\"\n",
    "def print_hist(h):\n",
    "    for c in h:\n",
    "        print(c, h[c])"
   ]
  },
  {
   "cell_type": "code",
   "execution_count": 27,
   "id": "ae353935",
   "metadata": {
    "slideshow": {
     "slide_type": "fragment"
    }
   },
   "outputs": [
    {
     "name": "stdout",
     "output_type": "stream",
     "text": [
      "p 1\n",
      "a 1\n",
      "r 2\n",
      "o 1\n",
      "t 1\n"
     ]
    }
   ],
   "source": [
    "h = histogram('parrot')\n",
    "print_hist(h)"
   ]
  },
  {
   "cell_type": "code",
   "execution_count": 28,
   "id": "f6eb13e6",
   "metadata": {
    "slideshow": {
     "slide_type": "fragment"
    }
   },
   "outputs": [
    {
     "name": "stdout",
     "output_type": "stream",
     "text": [
      "a 1\n",
      "o 1\n",
      "p 1\n",
      "r 2\n",
      "t 1\n"
     ]
    }
   ],
   "source": [
    "\"\"\"Novamente, as chaves não estão em nenhuma ordem determinada. Para atravessar as\n",
    "chaves em ordem ascendente, você pode usar a função integrada sorted:\"\"\"\n",
    "for key in sorted(h):\n",
    "    print(key, h[key])"
   ]
  },
  {
   "cell_type": "markdown",
   "id": "293c6b43",
   "metadata": {
    "slideshow": {
     "slide_type": "slide"
    }
   },
   "source": [
    "<div style=\"text-align: center\"> <h2> \n",
    "Busca reversa\n",
    "    </h2> </div>"
   ]
  },
  {
   "cell_type": "markdown",
   "id": "f3f6695d",
   "metadata": {
    "slideshow": {
     "slide_type": "subslide"
    }
   },
   "source": [
    "Considerando um dicionário d e uma chave k, é fácil encontrar o valor correspondente v =\n",
    "d [k]. Esta operação chama-se busca.\n",
    "Mas e se você tiver v e quiser encontrar k? Você tem dois problemas: em primeiro lugar,\n",
    "pode haver mais de uma chave que esteja mapeada ao valor v. Dependendo da aplicação,\n",
    "quem sabe você pode escolher um, ou talvez tenha de fazer uma lista que contenha todos\n",
    "eles. Em segundo lugar, não há sintaxe simples para fazer uma busca reversa; é preciso\n",
    "procurar."
   ]
  },
  {
   "cell_type": "code",
   "execution_count": 31,
   "id": "5bd6a446",
   "metadata": {
    "slideshow": {
     "slide_type": "slide"
    }
   },
   "outputs": [],
   "source": [
    "\"\"\"Aqui está uma função que recebe um valor e retorna a primeira chave mapeada ao valor\n",
    "dado:\"\"\"\n",
    "def reverse_lookup(d,v):\n",
    "    for k in d:\n",
    "        if d[k] == v:\n",
    "            return k\n",
    "    raise LookupError()"
   ]
  },
  {
   "cell_type": "markdown",
   "id": "f81a86a1",
   "metadata": {
    "slideshow": {
     "slide_type": "fragment"
    }
   },
   "source": [
    "Essa função é mais um exemplo do padrão de busca, mas usa um recurso que ainda não\n",
    "tínhamos visto: raise. A instrução raise causa uma exceção; neste caso, causa um\n",
    "LookupError, que é uma exceção integrada, usada para indicar que uma operação de busca\n",
    "falhou."
   ]
  },
  {
   "cell_type": "code",
   "execution_count": 33,
   "id": "f9ed14ae",
   "metadata": {
    "slideshow": {
     "slide_type": "fragment"
    }
   },
   "outputs": [
    {
     "data": {
      "text/plain": [
       "'r'"
      ]
     },
     "execution_count": 33,
     "metadata": {},
     "output_type": "execute_result"
    }
   ],
   "source": [
    "\"\"\"Se chegarmos ao fim do loop significa que v não aparece no dicionário como um valor,\n",
    "portanto apresentaremos uma exceção.\"\"\"\n",
    "h = histogram('parrot') #bem sucedida\n",
    "k = reverse_lookup(h,2)\n",
    "k"
   ]
  },
  {
   "cell_type": "code",
   "execution_count": 35,
   "id": "9b5ecbb5",
   "metadata": {
    "slideshow": {
     "slide_type": "fragment"
    }
   },
   "outputs": [
    {
     "ename": "LookupError",
     "evalue": "",
     "output_type": "error",
     "traceback": [
      "\u001b[1;31m---------------------------------------------------------------------------\u001b[0m",
      "\u001b[1;31mLookupError\u001b[0m                               Traceback (most recent call last)",
      "\u001b[1;32m~\\AppData\\Local\\Temp/ipykernel_8032/1205859426.py\u001b[0m in \u001b[0;36m<module>\u001b[1;34m\u001b[0m\n\u001b[1;32m----> 1\u001b[1;33m \u001b[0mk\u001b[0m \u001b[1;33m=\u001b[0m \u001b[0mreverse_lookup\u001b[0m\u001b[1;33m(\u001b[0m\u001b[0mh\u001b[0m\u001b[1;33m,\u001b[0m\u001b[1;36m3\u001b[0m\u001b[1;33m)\u001b[0m \u001b[1;31m#mal sucedida\u001b[0m\u001b[1;33m\u001b[0m\u001b[1;33m\u001b[0m\u001b[0m\n\u001b[0m",
      "\u001b[1;32m~\\AppData\\Local\\Temp/ipykernel_8032/1216692388.py\u001b[0m in \u001b[0;36mreverse_lookup\u001b[1;34m(d, v)\u001b[0m\n\u001b[0;32m      5\u001b[0m         \u001b[1;32mif\u001b[0m \u001b[0md\u001b[0m\u001b[1;33m[\u001b[0m\u001b[0mk\u001b[0m\u001b[1;33m]\u001b[0m \u001b[1;33m==\u001b[0m \u001b[0mv\u001b[0m\u001b[1;33m:\u001b[0m\u001b[1;33m\u001b[0m\u001b[1;33m\u001b[0m\u001b[0m\n\u001b[0;32m      6\u001b[0m             \u001b[1;32mreturn\u001b[0m \u001b[0mk\u001b[0m\u001b[1;33m\u001b[0m\u001b[1;33m\u001b[0m\u001b[0m\n\u001b[1;32m----> 7\u001b[1;33m     \u001b[1;32mraise\u001b[0m \u001b[0mLookupError\u001b[0m\u001b[1;33m(\u001b[0m\u001b[1;33m)\u001b[0m\u001b[1;33m\u001b[0m\u001b[1;33m\u001b[0m\u001b[0m\n\u001b[0m",
      "\u001b[1;31mLookupError\u001b[0m: "
     ]
    }
   ],
   "source": [
    "k = reverse_lookup(h,3) #mal sucedida"
   ]
  },
  {
   "cell_type": "markdown",
   "id": "441c0ba7",
   "metadata": {
    "slideshow": {
     "slide_type": "slide"
    }
   },
   "source": [
    "O efeito causado por você ao apresentar uma exceção é igual ao causado pelo Python\n",
    "quando faz o mesmo: ele exibe um traceback e uma mensagem de erro.\n",
    "A instrução raise pode receber uma mensagem de erro detalhada como argumento\n",
    "opcional. Por exemplo:"
   ]
  },
  {
   "cell_type": "code",
   "execution_count": 36,
   "id": "d2a530b6",
   "metadata": {
    "slideshow": {
     "slide_type": "fragment"
    }
   },
   "outputs": [
    {
     "ename": "LookupError",
     "evalue": "value does not appear in the dictionary",
     "output_type": "error",
     "traceback": [
      "\u001b[1;31m---------------------------------------------------------------------------\u001b[0m",
      "\u001b[1;31mLookupError\u001b[0m                               Traceback (most recent call last)",
      "\u001b[1;32m~\\AppData\\Local\\Temp/ipykernel_8032/2628416716.py\u001b[0m in \u001b[0;36m<module>\u001b[1;34m\u001b[0m\n\u001b[1;32m----> 1\u001b[1;33m \u001b[1;32mraise\u001b[0m \u001b[0mLookupError\u001b[0m\u001b[1;33m(\u001b[0m\u001b[1;34m'value does not appear in the dictionary'\u001b[0m\u001b[1;33m)\u001b[0m\u001b[1;33m\u001b[0m\u001b[1;33m\u001b[0m\u001b[0m\n\u001b[0m",
      "\u001b[1;31mLookupError\u001b[0m: value does not appear in the dictionary"
     ]
    }
   ],
   "source": [
    "raise LookupError('value does not appear in the dictionary')"
   ]
  },
  {
   "cell_type": "markdown",
   "id": "3a82dce0",
   "metadata": {
    "slideshow": {
     "slide_type": "fragment"
    }
   },
   "source": [
    "Uma busca reversa é muito mais lenta que uma busca no sentido normal; se for preciso\n",
    "fazê-lo muitas vezes, ou se o dicionário ficar muito grande, o desempenho do seu\n",
    "programa será prejudicado."
   ]
  },
  {
   "cell_type": "markdown",
   "id": "6191ec91",
   "metadata": {
    "slideshow": {
     "slide_type": "slide"
    }
   },
   "source": [
    "<div style=\"text-align: center\"> <h2> \n",
    "Dicionários e listas\n",
    "    </h2> </div>"
   ]
  },
  {
   "cell_type": "markdown",
   "id": "0a8439de",
   "metadata": {
    "slideshow": {
     "slide_type": "fragment"
    }
   },
   "source": [
    "As listas podem aparecer como valores em um dicionário. Por exemplo, se você receber\n",
    "um dicionário que mapeie letras e frequências, é uma boa ideia invertê-lo; isto é, crie um\n",
    "dicionário que mapeie de frequências a letras. Como pode haver várias letras com a\n",
    "mesma frequência, cada valor no dicionário invertido deve ser uma lista de letras."
   ]
  },
  {
   "cell_type": "code",
   "execution_count": 37,
   "id": "6c1c42af",
   "metadata": {
    "slideshow": {
     "slide_type": "fragment"
    }
   },
   "outputs": [],
   "source": [
    "\"\"\"Aqui está uma função que inverte um dicionário:\"\"\"\n",
    "def invert_dict(d):\n",
    "    inverse = dict()\n",
    "    for key in d:\n",
    "        val = d[key]\n",
    "        if val not in inverse:\n",
    "            inverse[val] = [key]\n",
    "        else:\n",
    "            inverse[val].append(key)\n",
    "    return inverse"
   ]
  },
  {
   "cell_type": "markdown",
   "id": "587092a0",
   "metadata": {
    "slideshow": {
     "slide_type": "slide"
    }
   },
   "source": [
    "Cada vez que o programa passar pelo loop, a key recebe uma chave de d e val recebe o\n",
    "valor correspondente. Se val não estiver em inverse significa que não foi vista antes, então\n",
    "criamos um item e o inicializamos com um item avulso (em inglês, singleton, uma lista\n",
    "que contém um único elemento). Se não for o caso é porque vimos esse valor antes, então\n",
    "acrescentamos a chave correspondente à lista."
   ]
  },
  {
   "cell_type": "code",
   "execution_count": 38,
   "id": "0d005267",
   "metadata": {
    "slideshow": {
     "slide_type": "fragment"
    }
   },
   "outputs": [
    {
     "data": {
      "text/plain": [
       "{'p': 1, 'a': 1, 'r': 2, 'o': 1, 't': 1}"
      ]
     },
     "execution_count": 38,
     "metadata": {},
     "output_type": "execute_result"
    }
   ],
   "source": [
    "hist = histogram('parrot')\n",
    "hist"
   ]
  },
  {
   "cell_type": "code",
   "execution_count": 39,
   "id": "c9514ef6",
   "metadata": {
    "slideshow": {
     "slide_type": "fragment"
    }
   },
   "outputs": [
    {
     "data": {
      "text/plain": [
       "{1: ['p', 'a', 'o', 't'], 2: ['r']}"
      ]
     },
     "execution_count": 39,
     "metadata": {},
     "output_type": "execute_result"
    }
   ],
   "source": [
    "inverse = invert_dict(hist)\n",
    "inverse"
   ]
  },
  {
   "cell_type": "code",
   "execution_count": 40,
   "id": "ba8ae1e2",
   "metadata": {
    "slideshow": {
     "slide_type": "fragment"
    }
   },
   "outputs": [
    {
     "ename": "TypeError",
     "evalue": "unhashable type: 'list'",
     "output_type": "error",
     "traceback": [
      "\u001b[1;31m---------------------------------------------------------------------------\u001b[0m",
      "\u001b[1;31mTypeError\u001b[0m                                 Traceback (most recent call last)",
      "\u001b[1;32m~\\AppData\\Local\\Temp/ipykernel_8032/271317005.py\u001b[0m in \u001b[0;36m<module>\u001b[1;34m\u001b[0m\n\u001b[0;32m      3\u001b[0m \u001b[0mt\u001b[0m \u001b[1;33m=\u001b[0m \u001b[1;33m[\u001b[0m\u001b[1;36m1\u001b[0m\u001b[1;33m,\u001b[0m\u001b[1;36m2\u001b[0m\u001b[1;33m,\u001b[0m\u001b[1;36m3\u001b[0m\u001b[1;33m]\u001b[0m\u001b[1;33m\u001b[0m\u001b[1;33m\u001b[0m\u001b[0m\n\u001b[0;32m      4\u001b[0m \u001b[0md\u001b[0m \u001b[1;33m=\u001b[0m \u001b[0mdict\u001b[0m\u001b[1;33m(\u001b[0m\u001b[1;33m)\u001b[0m\u001b[1;33m\u001b[0m\u001b[1;33m\u001b[0m\u001b[0m\n\u001b[1;32m----> 5\u001b[1;33m \u001b[0md\u001b[0m\u001b[1;33m[\u001b[0m\u001b[0mt\u001b[0m\u001b[1;33m]\u001b[0m \u001b[1;33m=\u001b[0m \u001b[1;34m'oops'\u001b[0m\u001b[1;33m\u001b[0m\u001b[1;33m\u001b[0m\u001b[0m\n\u001b[0m",
      "\u001b[1;31mTypeError\u001b[0m: unhashable type: 'list'"
     ]
    }
   ],
   "source": [
    "\"\"\"As listas podem ser valores em um dicionário, como mostra este exemplo, mas não podem\n",
    "ser chaves. Isso é o que acontece se você tentar:\"\"\"\n",
    "t = [1,2,3]\n",
    "d = dict()\n",
    "d[t] = 'oops'"
   ]
  },
  {
   "cell_type": "markdown",
   "id": "1e3ce1f0",
   "metadata": {
    "slideshow": {
     "slide_type": "slide"
    }
   },
   "source": [
    "Já mencionei que um dicionário é implementado usando uma hashtable e isso significa\n",
    "que é preciso que as chaves possam ser hashable (que seja possível computar seu hash, e\n",
    "que este valor de hash seja imutável).\n",
    "hash é uma função que recebe um valor (de qualquer tipo) e devolve um número inteiro.\n",
    "Dicionários usam esses números inteiros, chamados valores hash, para guardar e buscar\n",
    "pares chave-valor."
   ]
  },
  {
   "cell_type": "markdown",
   "id": "2a670358",
   "metadata": {
    "slideshow": {
     "slide_type": "subslide"
    }
   },
   "source": [
    "Este sistema funciona perfeitamente se as chaves forem imutáveis. Porém, se as chaves\n",
    "são mutáveis, como listas, coisas ruins acontecem. Por exemplo, quando você cria um par\n",
    "chave-valor, o Python guarda a chave na posição correspondente. Se você modificar a\n",
    "chave e então guardá-la novamente, ela iria para uma posição diferente. Nesse caso, você\n",
    "poderia ter duas entradas para a mesma chave, ou pode não conseguir encontrar uma\n",
    "chave. De qualquer forma, o dicionário não funcionaria corretamente.\n",
    "É por isso que as chaves têm de ser hashable, e tipos mutáveis como listas, não são. A\n",
    "forma mais simples de resolver esta limitação é usar tuplas, que serão vistas no próximo\n",
    "capítulo.\n",
    "Como os dicionários são mutáveis, eles não podem ser usados como chaves, mas podem\n",
    "ser usados como valores."
   ]
  },
  {
   "cell_type": "markdown",
   "id": "b064047f",
   "metadata": {
    "slideshow": {
     "slide_type": "slide"
    }
   },
   "source": [
    "<div style=\"text-align: center\"> <h2> \n",
    "Variáveis globais\n",
    "    </h2> </div>"
   ]
  },
  {
   "cell_type": "markdown",
   "id": "0956fc6f",
   "metadata": {
    "slideshow": {
     "slide_type": "subslide"
    }
   },
   "source": [
    "<div>A estrutura known criada fora da função, então ao frame especial\n",
    "chamado __main__. As variáveis em __main__ às vezes são chamadas de globais, porque\n",
    "podem ser acessadas de qualquer função. Em contraste com as variáveis locais, que\n",
    "desaparecem quando sua função termina, as variáveis globais persistem de uma chamada\n",
    "da função à seguinte.</div>"
   ]
  },
  {
   "cell_type": "code",
   "execution_count": 41,
   "id": "d4b16a01",
   "metadata": {
    "slideshow": {
     "slide_type": "fragment"
    }
   },
   "outputs": [],
   "source": [
    "\"\"\"É comum usar variáveis globais para flags; isto é, variáveis booleanas que indicam\n",
    "(“flag”) se uma condição é verdadeira. Por exemplo, alguns programas usam um flag\n",
    "denominado verbose para controlar o nível de detalhe da saída:\"\"\"\n",
    "\n",
    "verbose = True\n",
    "def example1():\n",
    "    if verbose:\n",
    "        print('Running example1')"
   ]
  },
  {
   "cell_type": "code",
   "execution_count": 42,
   "id": "07840cec",
   "metadata": {
    "slideshow": {
     "slide_type": "fragment"
    }
   },
   "outputs": [],
   "source": [
    "\"\"\"Se tentar reatribuir uma variável global, você pode se surpreender. O próximo exemplo\n",
    "mostra como acompanhar se a função foi chamada:\"\"\"\n",
    "been_called = False\n",
    "def example2():\n",
    "    been_called = True #Errado\n",
    "    "
   ]
  },
  {
   "cell_type": "markdown",
   "id": "bda418b5",
   "metadata": {
    "slideshow": {
     "slide_type": "slide"
    }
   },
   "source": [
    "Porém, se executá-la, você verá que o valor de been_called não se altera. O problema é\n",
    "que example2 cria uma nova variável local chamada been_called. A variável local some\n",
    "quando a função termina e não tem efeito sobre a variável global."
   ]
  },
  {
   "cell_type": "code",
   "execution_count": 43,
   "id": "1cf54a32",
   "metadata": {
    "slideshow": {
     "slide_type": "fragment"
    }
   },
   "outputs": [],
   "source": [
    "\"\"\"Para reatribuir uma variável global dentro de uma função é preciso declarar a variável\n",
    "como global antes de usá-la:\"\"\"\n",
    "been_called = False \n",
    "def example2():\n",
    "    global been_called\n",
    "    been_called = True"
   ]
  },
  {
   "cell_type": "markdown",
   "id": "cbbf6095",
   "metadata": {
    "slideshow": {
     "slide_type": "fragment"
    }
   },
   "source": [
    "A instrução global diz ao interpretador algo como “Nesta função, quando digo\n",
    "been_called, estou falando da variável global; não crie uma local”."
   ]
  },
  {
   "cell_type": "code",
   "execution_count": 44,
   "id": "db79ad32",
   "metadata": {
    "slideshow": {
     "slide_type": "fragment"
    }
   },
   "outputs": [],
   "source": [
    "\"\"\"Aqui está um exemplo que tenta atualizar uma variável global:\"\"\"\n",
    "count = 0\n",
    "def example3():\n",
    "    count = count + 1 #Errado"
   ]
  },
  {
   "cell_type": "code",
   "execution_count": 50,
   "id": "a7d156b9",
   "metadata": {
    "slideshow": {
     "slide_type": "fragment"
    }
   },
   "outputs": [
    {
     "ename": "UnboundLocalError",
     "evalue": "local variable 'count' referenced before assignment",
     "output_type": "error",
     "traceback": [
      "\u001b[1;31m---------------------------------------------------------------------------\u001b[0m",
      "\u001b[1;31mUnboundLocalError\u001b[0m                         Traceback (most recent call last)",
      "\u001b[1;32m~\\AppData\\Local\\Temp/ipykernel_8032/865267026.py\u001b[0m in \u001b[0;36m<module>\u001b[1;34m\u001b[0m\n\u001b[1;32m----> 1\u001b[1;33m \u001b[0ma\u001b[0m \u001b[1;33m=\u001b[0m \u001b[0mexample3\u001b[0m\u001b[1;33m(\u001b[0m\u001b[1;33m)\u001b[0m\u001b[1;33m\u001b[0m\u001b[1;33m\u001b[0m\u001b[0m\n\u001b[0m\u001b[0;32m      2\u001b[0m \u001b[0ma\u001b[0m\u001b[1;33m\u001b[0m\u001b[1;33m\u001b[0m\u001b[0m\n",
      "\u001b[1;32m~\\AppData\\Local\\Temp/ipykernel_8032/3371843594.py\u001b[0m in \u001b[0;36mexample3\u001b[1;34m()\u001b[0m\n\u001b[0;32m      2\u001b[0m \u001b[0mcount\u001b[0m \u001b[1;33m=\u001b[0m \u001b[1;36m0\u001b[0m\u001b[1;33m\u001b[0m\u001b[1;33m\u001b[0m\u001b[0m\n\u001b[0;32m      3\u001b[0m \u001b[1;32mdef\u001b[0m \u001b[0mexample3\u001b[0m\u001b[1;33m(\u001b[0m\u001b[1;33m)\u001b[0m\u001b[1;33m:\u001b[0m\u001b[1;33m\u001b[0m\u001b[1;33m\u001b[0m\u001b[0m\n\u001b[1;32m----> 4\u001b[1;33m     \u001b[0mcount\u001b[0m \u001b[1;33m=\u001b[0m \u001b[0mcount\u001b[0m \u001b[1;33m+\u001b[0m \u001b[1;36m1\u001b[0m \u001b[1;31m#Errado\u001b[0m\u001b[1;33m\u001b[0m\u001b[1;33m\u001b[0m\u001b[0m\n\u001b[0m",
      "\u001b[1;31mUnboundLocalError\u001b[0m: local variable 'count' referenced before assignment"
     ]
    }
   ],
   "source": [
    "a = example3()\n",
    "a"
   ]
  },
  {
   "cell_type": "markdown",
   "id": "da5a18a0",
   "metadata": {
    "slideshow": {
     "slide_type": "slide"
    }
   },
   "source": [
    "O Python supõe que count seja local, e dentro desta suposição, a variável está sendo lida\n",
    "antes de ser escrita. A solução, mais uma vez, é declarar count como global:"
   ]
  },
  {
   "cell_type": "code",
   "execution_count": 51,
   "id": "f24274a4",
   "metadata": {
    "slideshow": {
     "slide_type": "fragment"
    }
   },
   "outputs": [],
   "source": [
    "def example3():\n",
    "    global count\n",
    "    count + 1"
   ]
  },
  {
   "cell_type": "code",
   "execution_count": 55,
   "id": "1f861f9e",
   "metadata": {
    "slideshow": {
     "slide_type": "fragment"
    }
   },
   "outputs": [],
   "source": [
    "a = example3()\n",
    "a"
   ]
  },
  {
   "cell_type": "code",
   "execution_count": 56,
   "id": "ff99dd05",
   "metadata": {
    "slideshow": {
     "slide_type": "fragment"
    }
   },
   "outputs": [],
   "source": [
    "\"\"\"Se uma variável global se referir a um valor mutável, você pode alterar o valor sem\n",
    "declarar a variável:\"\"\"\n",
    "\n",
    "known = {0:0, 1:1}\n",
    "def example4():\n",
    "    known[2] = 1"
   ]
  },
  {
   "cell_type": "code",
   "execution_count": 57,
   "id": "790b918a",
   "metadata": {
    "slideshow": {
     "slide_type": "fragment"
    }
   },
   "outputs": [],
   "source": [
    "\"\"\"Então você pode adicionar, retirar e substituir elementos de uma lista global ou dicionário,\n",
    "mas se quiser reatribuir a variável, precisa declará-la:\"\"\"\n",
    "def example5():\n",
    "    global known\n",
    "    known = dict()"
   ]
  },
  {
   "cell_type": "markdown",
   "id": "6f44c2a9",
   "metadata": {
    "slideshow": {
     "slide_type": "fragment"
    }
   },
   "source": [
    "****As variáveis globais podem ser úteis, mas se você tiver muitas delas e alterá-las com\n",
    "frequência, isso poderá dificultar a depuração do programa."
   ]
  },
  {
   "cell_type": "markdown",
   "id": "dbefef70",
   "metadata": {
    "slideshow": {
     "slide_type": "slide"
    }
   },
   "source": [
    "<div style=\"text-align: center\"> <h2> \n",
    "Depuração\n",
    "    </h2> </div>"
   ]
  },
  {
   "cell_type": "markdown",
   "id": "e6a59892",
   "metadata": {
    "slideshow": {
     "slide_type": "subslide"
    }
   },
   "source": [
    "<div>\n",
    "    <p>\n",
    "    Ao trabalhar com conjuntos de dados maiores, depurar exibindo e verificando a saída à\n",
    "mão pode ser trabalhoso. Aqui estão algumas sugestões para depurar grandes conjuntos de\n",
    "dados:\n",
    "<br>Reduza a entrada</br>\n",
    "Se for possível, reduza o tamanho do conjunto de dados. Por exemplo, se o programa\n",
    "lê um arquivo de texto, comece com apenas as 10 primeiras linhas, ou com o menor\n",
    "exemplo que puder encontrar. Você pode editar os próprios arquivos ou alterar o\n",
    "programa para que leia só as primeiras n linhas (é melhor).\n",
    "<br>Se houver um erro, você pode reduzir n ao menor valor que manifeste o erro, e então\n",
    "aumentá-lo gradativamente até encontrar e corrigir o erro.</br>\n",
    "<br>Verifique os resumos e tipos</br>\n",
    "Em vez de imprimir e verificar o conjunto de dados inteiro, pense em exibir resumos\n",
    "dos dados: por exemplo, o número de itens em um dicionário ou o total de uma lista\n",
    "de números.\n",
    "<br>Uma causa comum de erros em tempo de execução são valores de tipo incompatível.\n",
    "Para depurar essa espécie de erro, muitas vezes basta exibir o tipo de um valor.</br>\n",
    "<br>Crie autoverificações</br>\n",
    "É possível escrever o código para verificar erros automaticamente. Por exemplo, se\n",
    "estiver calculando a média de uma lista de números, você pode verificar se o\n",
    "resultado não é mais alto que o maior elemento da lista ou mais baixo que o menor.\n",
    "<br>Isso é chamado de “verificação de sanidade” porque descobre resultados “insanos”.\n",
    "Outro tipo de verificação compara os resultados de dois cálculos diferentes para ver\n",
    "se são consistentes. Isso é chamado de “verificação de consistência”.<br>\n",
    "<br>Formate a saída</br>\n",
    "A formatação da saída para depuração pode facilitar a busca de erros. \n",
    "Reforçando, o tempo que você passar construindo o scaffolding (o andaime) pode reduzir\n",
    "o tempo de depuração.\n",
    "    </p>\n",
    "    </div>"
   ]
  },
  {
   "cell_type": "code",
   "execution_count": null,
   "id": "a52afbab",
   "metadata": {
    "slideshow": {
     "slide_type": "skip"
    }
   },
   "outputs": [],
   "source": []
  }
 ],
 "metadata": {
  "celltoolbar": "Slideshow",
  "kernelspec": {
   "display_name": "Python 3 (ipykernel)",
   "language": "python",
   "name": "python3"
  },
  "language_info": {
   "codemirror_mode": {
    "name": "ipython",
    "version": 3
   },
   "file_extension": ".py",
   "mimetype": "text/x-python",
   "name": "python",
   "nbconvert_exporter": "python",
   "pygments_lexer": "ipython3",
   "version": "3.10.8"
  }
 },
 "nbformat": 4,
 "nbformat_minor": 5
}
