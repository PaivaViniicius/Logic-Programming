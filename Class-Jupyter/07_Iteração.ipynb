{
 "cells": [
  {
   "cell_type": "markdown",
   "id": "15d5f32b",
   "metadata": {},
   "source": [
    "<div style=\"text-align: center\"> <h1> \n",
    "Iteração\n",
    "    </h1> </div>"
   ]
  },
  {
   "cell_type": "markdown",
   "id": "fe474443",
   "metadata": {},
   "source": [
    "<div style=\"text-align: center\"> <h2> \n",
    "Reatribuição\n",
    "    </h2> </div>"
   ]
  },
  {
   "cell_type": "markdown",
   "id": "cf3cc30d",
   "metadata": {},
   "source": [
    "Pode ser que você já tenha descoberto que é permitido fazer mais de uma atribuição para a\n",
    "mesma variável. Uma nova atribuição faz uma variável existente referir-se a um novo\n",
    "valor (e deixar de referir-se ao valor anterior)."
   ]
  },
  {
   "cell_type": "code",
   "execution_count": 1,
   "id": "f5e1a563",
   "metadata": {},
   "outputs": [],
   "source": [
    "x = 5"
   ]
  },
  {
   "cell_type": "code",
   "execution_count": 2,
   "id": "d370a21e",
   "metadata": {},
   "outputs": [
    {
     "data": {
      "text/plain": [
       "5"
      ]
     },
     "execution_count": 2,
     "metadata": {},
     "output_type": "execute_result"
    }
   ],
   "source": [
    "x"
   ]
  },
  {
   "cell_type": "code",
   "execution_count": 4,
   "id": "cfacf039",
   "metadata": {},
   "outputs": [],
   "source": [
    "x = 7"
   ]
  },
  {
   "cell_type": "code",
   "execution_count": 5,
   "id": "b64b2684",
   "metadata": {},
   "outputs": [
    {
     "data": {
      "text/plain": [
       "7"
      ]
     },
     "execution_count": 5,
     "metadata": {},
     "output_type": "execute_result"
    }
   ],
   "source": [
    "x"
   ]
  },
  {
   "cell_type": "code",
   "execution_count": 6,
   "id": "ce33f439",
   "metadata": {},
   "outputs": [
    {
     "data": {
      "text/plain": [
       "5"
      ]
     },
     "execution_count": 6,
     "metadata": {},
     "output_type": "execute_result"
    }
   ],
   "source": [
    "a = 5\n",
    "b = a\n",
    "a = 3\n",
    "b"
   ]
  },
  {
   "cell_type": "markdown",
   "id": "7b5b7e12",
   "metadata": {},
   "source": [
    "<div style=\"text-align: center\"> <h2> \n",
    "Atualização de variáveis\n",
    "    </h2> </div>"
   ]
  },
  {
   "cell_type": "markdown",
   "id": "9b5cb76e",
   "metadata": {},
   "source": [
    "Um tipo comum de reatribuição é uma atualização, onde o novo valor da variável depende\n",
    "do velho."
   ]
  },
  {
   "cell_type": "code",
   "execution_count": 8,
   "id": "b021d5fe",
   "metadata": {},
   "outputs": [],
   "source": [
    "x = 0\n",
    "x = x + 1"
   ]
  },
  {
   "cell_type": "markdown",
   "id": "bf935d64",
   "metadata": {},
   "source": [
    "<div style=\"text-align: center\"> <h2> \n",
    "Instrução while\n",
    "    </h2> </div>"
   ]
  },
  {
   "cell_type": "markdown",
   "id": "d2d07727",
   "metadata": {},
   "source": [
    "Você até pode ler a instrução while como se fosse uma tradução do inglês. Significa\n",
    "“Enquanto n for maior que 0, mostre o valor de n e então decremente n. Quando chegar a\n",
    "0, mostre a palavra Blastoff!”"
   ]
  },
  {
   "cell_type": "code",
   "execution_count": 9,
   "id": "3e37950f",
   "metadata": {},
   "outputs": [],
   "source": [
    "def countdown(n):\n",
    "    while n > 0:\n",
    "        print(n)\n",
    "        n = n - 1\n",
    "    print('Blastoff!')"
   ]
  },
  {
   "cell_type": "code",
   "execution_count": 10,
   "id": "b36b7487",
   "metadata": {},
   "outputs": [
    {
     "name": "stdout",
     "output_type": "stream",
     "text": [
      "10\n",
      "9\n",
      "8\n",
      "7\n",
      "6\n",
      "5\n",
      "4\n",
      "3\n",
      "2\n",
      "1\n",
      "Blastoff!\n"
     ]
    }
   ],
   "source": [
    "countdown(10)"
   ]
  },
  {
   "cell_type": "markdown",
   "id": "6fca06f1",
   "metadata": {},
   "source": [
    "Mais formalmente, aqui está o fluxo de execução para uma instrução while:\n",
    "<br>1. Determine se a condição é verdadeira ou falsa.\n",
    "<br>2. Se for falsa, saia da instrução while e continue a execução da próxima instrução.\n",
    "<br>3. Se a condição for verdadeira, execute o corpo e então volte ao passo 1.\n",
    "<br>Este tipo de fluxo chama-se loop (laço), porque o terceiro passo faz um loop de volta ao\n",
    "topo."
   ]
  },
  {
   "cell_type": "code",
   "execution_count": 18,
   "id": "fe3f6db7",
   "metadata": {},
   "outputs": [],
   "source": [
    "\"\"\"No caso de countdown, podemos provar que o loop termina: se n for zero ou negativo, o\n",
    "loop nunca é executado. Senão, n fica cada vez menor ao passar pelo loop, até\n",
    "eventualmente chegar a 0.\n",
    "Para alguns outros loops, não é tão fácil perceber isso. Por exemplo:\"\"\"\n",
    "def sequence(n):\n",
    "    while n != 1:\n",
    "        print(n)\n",
    "        if n % 2 == 0: # n é par\n",
    "            n = n / 2\n",
    "        else: # n é ímpar\n",
    "            n = n * 3 + 1"
   ]
  },
  {
   "cell_type": "code",
   "execution_count": 19,
   "id": "4216076d",
   "metadata": {},
   "outputs": [
    {
     "name": "stdout",
     "output_type": "stream",
     "text": [
      "3\n",
      "10\n",
      "5.0\n",
      "16.0\n",
      "8.0\n",
      "4.0\n",
      "2.0\n"
     ]
    }
   ],
   "source": [
    "sequence(3)"
   ]
  },
  {
   "cell_type": "markdown",
   "id": "aafcb39e",
   "metadata": {},
   "source": [
    "<div style=\"text-align: left\"><p><strong>Atenção</strong><br>\n",
    "Como n às vezes aumenta e às vezes diminui, não há nenhuma prova óbvia de que n\n",
    "chegará eventualmente a 1, ou que o programa terminará. Para alguns valores de n,\n",
    "podemos provar o término. Por exemplo, se o valor inicial for uma potência de dois, n será\n",
    "par cada vez que passar pelo loop até que chegue a 1. \n",
    "<br>O exemplo anterior termina com uma sequência assim, que inicia com 16.\n",
    "    \n",
    "</div>"
   ]
  },
  {
   "cell_type": "markdown",
   "id": "3b68beea",
   "metadata": {},
   "source": [
    "<div style=\"text-align: center\"><p><h2>break</h2><br></p></div>"
   ]
  },
  {
   "cell_type": "markdown",
   "id": "c4cf4955",
   "metadata": {},
   "source": [
    "Às vezes você não sabe que está na hora de terminar um loop até que já esteja na metade\n",
    "do corpo. Neste caso pode usar a instrução break para sair do loop.\n",
    "Por exemplo, suponha que você quer receber uma entrada do usuário até que este digite\n",
    "done. Você pode escrever:"
   ]
  },
  {
   "cell_type": "code",
   "execution_count": 27,
   "id": "77b641c4",
   "metadata": {},
   "outputs": [
    {
     "name": "stdout",
     "output_type": "stream",
     "text": [
      "> l\n",
      "l\n",
      "> a\n",
      "a\n",
      "> done\n",
      "Done!\n"
     ]
    }
   ],
   "source": [
    "while True:\n",
    "    line = input('> ')\n",
    "    if line == 'done':\n",
    "        break\n",
    "    print(line)\n",
    "print('Done!')"
   ]
  },
  {
   "cell_type": "code",
   "execution_count": null,
   "id": "cf3738eb",
   "metadata": {},
   "outputs": [],
   "source": []
  }
 ],
 "metadata": {
  "kernelspec": {
   "display_name": "Python 3 (ipykernel)",
   "language": "python",
   "name": "python3"
  },
  "language_info": {
   "codemirror_mode": {
    "name": "ipython",
    "version": 3
   },
   "file_extension": ".py",
   "mimetype": "text/x-python",
   "name": "python",
   "nbconvert_exporter": "python",
   "pygments_lexer": "ipython3",
   "version": "3.10.8"
  }
 },
 "nbformat": 4,
 "nbformat_minor": 5
}
