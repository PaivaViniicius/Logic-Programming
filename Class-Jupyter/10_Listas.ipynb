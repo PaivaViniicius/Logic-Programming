{
 "cells": [
  {
   "cell_type": "markdown",
   "id": "fe474443",
   "metadata": {
    "slideshow": {
     "slide_type": "slide"
    }
   },
   "source": [
    "<div style=\"text-align: center\"> <h2> \n",
    "Uma lista é uma sequência\n",
    "    </h2> </div>"
   ]
  },
  {
   "cell_type": "markdown",
   "id": "cf3cc30d",
   "metadata": {
    "slideshow": {
     "slide_type": "subslide"
    }
   },
   "source": [
    "Como uma string, uma lista é uma sequência de valores. Em uma string, os valores são\n",
    "caracteres; em uma lista, eles podem ser de qualquer tipo. Os valores em uma lista são\n",
    "chamados de elementos, ou, algumas vezes, de itens.\n",
    "Há várias formas para criar uma lista; a mais simples é colocar os elementos entre\n",
    "colchetes ([ e ]):"
   ]
  },
  {
   "cell_type": "code",
   "execution_count": 1,
   "id": "f5e1a563",
   "metadata": {
    "slideshow": {
     "slide_type": "slide"
    }
   },
   "outputs": [
    {
     "data": {
      "text/plain": [
       "[10, 2, 4, 5]"
      ]
     },
     "execution_count": 1,
     "metadata": {},
     "output_type": "execute_result"
    }
   ],
   "source": [
    "[10,2,4,5]"
   ]
  },
  {
   "cell_type": "code",
   "execution_count": 2,
   "id": "d370a21e",
   "metadata": {
    "slideshow": {
     "slide_type": "fragment"
    }
   },
   "outputs": [
    {
     "data": {
      "text/plain": [
       "['cachorro', 'gato', 'galinha']"
      ]
     },
     "execution_count": 2,
     "metadata": {},
     "output_type": "execute_result"
    }
   ],
   "source": [
    "['cachorro', 'gato', 'galinha']"
   ]
  },
  {
   "cell_type": "code",
   "execution_count": 1,
   "id": "55ed094e",
   "metadata": {
    "slideshow": {
     "slide_type": "fragment"
    }
   },
   "outputs": [],
   "source": [
    "lista3 = [12, 100, \"Universidade\"]"
   ]
  },
  {
   "cell_type": "code",
   "execution_count": 2,
   "id": "54d404dd",
   "metadata": {
    "slideshow": {
     "slide_type": "fragment"
    }
   },
   "outputs": [],
   "source": [
    "# Atribuindo cada valor da lista a uma variável.\n",
    "item1 = lista3[0]\n",
    "item2 = lista3[1]\n",
    "item3 = lista3[2]"
   ]
  },
  {
   "cell_type": "code",
   "execution_count": 3,
   "id": "7e0caef9",
   "metadata": {
    "slideshow": {
     "slide_type": "fragment"
    }
   },
   "outputs": [
    {
     "name": "stdout",
     "output_type": "stream",
     "text": [
      "12 100 Universidade\n"
     ]
    }
   ],
   "source": [
    "# Imprimindo as variáveis\n",
    "print(item1, item2, item3)"
   ]
  },
  {
   "cell_type": "markdown",
   "id": "52cacef3",
   "metadata": {
    "slideshow": {
     "slide_type": "slide"
    }
   },
   "source": [
    "O primeiro exemplo é uma lista de quatro números inteiros. O segundo é uma lista de três\n",
    "strings. Os elementos de uma lista não precisam ser do mesmo tipo. A lista seguinte\n",
    "contém uma string, um número de ponto flutuante, um número inteiro e (olhe só!) outra\n",
    "lista:"
   ]
  },
  {
   "cell_type": "code",
   "execution_count": 4,
   "id": "ce33f439",
   "metadata": {
    "slideshow": {
     "slide_type": "fragment"
    }
   },
   "outputs": [
    {
     "data": {
      "text/plain": [
       "['cachorro', 10, 2, 2.9, [10, 20]]"
      ]
     },
     "execution_count": 4,
     "metadata": {},
     "output_type": "execute_result"
    }
   ],
   "source": [
    "\"\"\"Uma lista dentro de outra lista é uma lista aninhada.\"\"\"\n",
    "['cachorro',10,2,2.9,[10,20]]"
   ]
  },
  {
   "cell_type": "code",
   "execution_count": 6,
   "id": "e8911eec",
   "metadata": {
    "slideshow": {
     "slide_type": "fragment"
    }
   },
   "outputs": [
    {
     "data": {
      "text/plain": [
       "[]"
      ]
     },
     "execution_count": 6,
     "metadata": {},
     "output_type": "execute_result"
    }
   ],
   "source": [
    "\"\"\"Uma lista que não contém elementos é chamada de lista vazia; você pode criar uma com\n",
    "colchetes vazios [].\"\"\"\n",
    "[]"
   ]
  },
  {
   "cell_type": "code",
   "execution_count": 7,
   "id": "4ba464c8",
   "metadata": {
    "slideshow": {
     "slide_type": "fragment"
    }
   },
   "outputs": [
    {
     "name": "stdout",
     "output_type": "stream",
     "text": [
      "['Cheddar', 'Edam', 'Gouda'] [42, 123] []\n"
     ]
    }
   ],
   "source": [
    "\"\"\"Como já se poderia esperar, podemos atribuir uma lista de valores a variáveis:\"\"\"\n",
    "cheeses = ['Cheddar', 'Edam', 'Gouda']\n",
    "numbers = [42, 123]\n",
    "empty = []\n",
    "print(cheeses, numbers, empty)"
   ]
  },
  {
   "cell_type": "markdown",
   "id": "dd31400c",
   "metadata": {
    "slideshow": {
     "slide_type": "slide"
    }
   },
   "source": [
    "<div style=\"text-align: center\"> <h2> \n",
    "Listas são mutáveis\n",
    "    </h2> </div>"
   ]
  },
  {
   "cell_type": "code",
   "execution_count": 9,
   "id": "7140ff19",
   "metadata": {
    "slideshow": {
     "slide_type": "fragment"
    }
   },
   "outputs": [
    {
     "data": {
      "text/plain": [
       "'Cheddar'"
      ]
     },
     "execution_count": 9,
     "metadata": {},
     "output_type": "execute_result"
    }
   ],
   "source": [
    "\"\"\"A sintaxe para acessar os elementos de uma lista é a mesma que para acessar os caracteres\n",
    "de uma string: o operador de colchete. A expressão dentro dos colchetes especifica o\n",
    "índice. Lembre-se de que os índices começam em 0:\"\"\"\n",
    "cheeses[0]"
   ]
  },
  {
   "cell_type": "code",
   "execution_count": 10,
   "id": "0362f187",
   "metadata": {
    "slideshow": {
     "slide_type": "fragment"
    }
   },
   "outputs": [
    {
     "data": {
      "text/plain": [
       "[42, 5]"
      ]
     },
     "execution_count": 10,
     "metadata": {},
     "output_type": "execute_result"
    }
   ],
   "source": [
    "\"\"\"Diferente das strings, listas são mutáveis. Quando o operador de colchete aparece do lado\n",
    "esquerdo de uma atribuição, ele identifica o elemento da lista que será atribuído:\n",
    "\"\"\"\n",
    "numbers = [42, 123]\n",
    "numbers[1] = 5\n",
    "numbers"
   ]
  },
  {
   "cell_type": "markdown",
   "id": "878e41da",
   "metadata": {
    "slideshow": {
     "slide_type": "slide"
    }
   },
   "source": [
    "<div> \n",
    "    <p>Índices de listas funcionam da mesma forma que os índices de strings:\n",
    "        <ol>\n",
    "        <li>Qualquer expressão de números inteiros pode ser usada como índice.</li>\n",
    "        <li>Se tentar ler ou escrever um elemento que não existe, você recebe um IndexError.</li>\n",
    "        <li>Se um índice tiver um valor negativo, ele conta de trás para a frente, a partir do final da lista.</li>\n",
    "<br>O operador in também funciona com listas:\n",
    "            </ol> </p>\n",
    "</div>"
   ]
  },
  {
   "cell_type": "code",
   "execution_count": 13,
   "id": "b62635a8",
   "metadata": {
    "slideshow": {
     "slide_type": "fragment"
    }
   },
   "outputs": [
    {
     "data": {
      "text/plain": [
       "True"
      ]
     },
     "execution_count": 13,
     "metadata": {},
     "output_type": "execute_result"
    }
   ],
   "source": [
    "cheeses = ['Cheddar', 'Edam', 'Gouda']\n",
    "'Edam' in cheeses"
   ]
  },
  {
   "cell_type": "code",
   "execution_count": 12,
   "id": "1a70ba23",
   "metadata": {
    "slideshow": {
     "slide_type": "fragment"
    }
   },
   "outputs": [
    {
     "data": {
      "text/plain": [
       "False"
      ]
     },
     "execution_count": 12,
     "metadata": {},
     "output_type": "execute_result"
    }
   ],
   "source": [
    "'Brie' in cheeses"
   ]
  },
  {
   "cell_type": "markdown",
   "id": "7429b4a5",
   "metadata": {
    "slideshow": {
     "slide_type": "slide"
    }
   },
   "source": [
    "<div style=\"text-align: center\"> <h2> \n",
    "Pecorrendo uma lista\n",
    "    </h2> </div>"
   ]
  },
  {
   "cell_type": "code",
   "execution_count": 15,
   "id": "d0421650",
   "metadata": {
    "slideshow": {
     "slide_type": "fragment"
    }
   },
   "outputs": [
    {
     "name": "stdout",
     "output_type": "stream",
     "text": [
      "Cheddar\n",
      "Edam\n",
      "Gouda\n"
     ]
    }
   ],
   "source": [
    "\"\"\"A forma mais comum de percorrer os elementos em uma lista é com um loop for. A\n",
    "sintaxe é a mesma que a das strings:\n",
    "\"\"\"\n",
    "for cheese in cheeses:\n",
    "    print(cheese)"
   ]
  },
  {
   "cell_type": "code",
   "execution_count": 16,
   "id": "bee487bc",
   "metadata": {
    "slideshow": {
     "slide_type": "fragment"
    }
   },
   "outputs": [],
   "source": [
    "\"\"\"Isso funciona bem se você precisa apenas ler os elementos da lista. Mas se você quer\n",
    "escrever ou atualizar os elementos, você precisa dos índices. Uma forma comum de fazer\n",
    "isso é combinar as funções integradas range e len:\n",
    "\"\"\"\n",
    "for i in range(len(numbers)):\n",
    "    numbers[i] = numbers[i] * 2"
   ]
  },
  {
   "cell_type": "markdown",
   "id": "0bb9a940",
   "metadata": {
    "slideshow": {
     "slide_type": "slide"
    }
   },
   "source": [
    "Este loop percorre a lista e atualiza cada elemento. len retorna o número de elementos na\n",
    "lista. range retorna uma lista de índices de 0 a n-1, em que n é o comprimento da lista.\n",
    "Cada vez que passa pelo loop, i recebe o índice do próximo elemento. A instrução de\n",
    "atribuição no corpo usa i para ler o valor antigo do elemento e atribuir o novo valor."
   ]
  },
  {
   "cell_type": "code",
   "execution_count": 17,
   "id": "399e4b17",
   "metadata": {
    "slideshow": {
     "slide_type": "fragment"
    }
   },
   "outputs": [],
   "source": [
    "\"\"\"Um loop for que passe por uma lista vazia nunca executa o corpo:\n",
    "\"\"\"\n",
    "for x in []:\n",
    "    print('This never happens.')"
   ]
  },
  {
   "cell_type": "code",
   "execution_count": 18,
   "id": "25fc481b",
   "metadata": {
    "slideshow": {
     "slide_type": "fragment"
    }
   },
   "outputs": [
    {
     "data": {
      "text/plain": [
       "['spam', 1, ['Brie', 'Roquefort', 'Pol le Veq'], [1, 2, 3]]"
      ]
     },
     "execution_count": 18,
     "metadata": {},
     "output_type": "execute_result"
    }
   ],
   "source": [
    "\"\"\"Apesar de uma lista poder conter outra lista, a lista aninhada ainda conta como um único\n",
    "elemento. O comprimento desta lista é quatro:\n",
    "\"\"\"\n",
    "['spam', 1, ['Brie', 'Roquefort', 'Pol le Veq'], [1, 2, 3]]"
   ]
  },
  {
   "cell_type": "code",
   "execution_count": 19,
   "id": "e70c8a0c",
   "metadata": {
    "slideshow": {
     "slide_type": "fragment"
    }
   },
   "outputs": [],
   "source": [
    "lista=['spam', 1, ['Brie', 'Roquefort', 'Pol le Veq'], [1, 2, 3]]"
   ]
  },
  {
   "cell_type": "code",
   "execution_count": 20,
   "id": "274139b4",
   "metadata": {
    "slideshow": {
     "slide_type": "fragment"
    }
   },
   "outputs": [
    {
     "data": {
      "text/plain": [
       "4"
      ]
     },
     "execution_count": 20,
     "metadata": {},
     "output_type": "execute_result"
    }
   ],
   "source": [
    "len(lista)"
   ]
  },
  {
   "cell_type": "markdown",
   "id": "c6b75d18",
   "metadata": {
    "slideshow": {
     "slide_type": "slide"
    }
   },
   "source": [
    "<div style=\"text-align: center\"> <h2> \n",
    "Operações com listas\n",
    "    </h2> </div>"
   ]
  },
  {
   "cell_type": "code",
   "execution_count": 22,
   "id": "f642298d",
   "metadata": {
    "slideshow": {
     "slide_type": "fragment"
    }
   },
   "outputs": [
    {
     "data": {
      "text/plain": [
       "[1, 2, 3, 4, 5, 6]"
      ]
     },
     "execution_count": 22,
     "metadata": {},
     "output_type": "execute_result"
    }
   ],
   "source": [
    "\"\"\"O operador + concatena listas:\n",
    "\"\"\"\n",
    "a = [1, 2, 3]\n",
    "b = [4, 5, 6]\n",
    "c = a + b\n",
    "c"
   ]
  },
  {
   "cell_type": "code",
   "execution_count": 23,
   "id": "4c11ab4b",
   "metadata": {
    "slideshow": {
     "slide_type": "fragment"
    }
   },
   "outputs": [
    {
     "data": {
      "text/plain": [
       "[0, 0, 0, 0]"
      ]
     },
     "execution_count": 23,
     "metadata": {},
     "output_type": "execute_result"
    }
   ],
   "source": [
    "\"\"\"O operador * repete a lista um dado número de vezes:\"\"\"\n",
    "[0] * 4"
   ]
  },
  {
   "cell_type": "markdown",
   "id": "57e78d53",
   "metadata": {
    "slideshow": {
     "slide_type": "slide"
    }
   },
   "source": [
    "<div style=\"text-align: center\"> <h2> \n",
    "Fatias de listas\n",
    "    </h2> </div>"
   ]
  },
  {
   "cell_type": "code",
   "execution_count": 25,
   "id": "f11dd98f",
   "metadata": {
    "slideshow": {
     "slide_type": "fragment"
    }
   },
   "outputs": [
    {
     "data": {
      "text/plain": [
       "['b', 'c']"
      ]
     },
     "execution_count": 25,
     "metadata": {},
     "output_type": "execute_result"
    }
   ],
   "source": [
    "\"\"\"O operador de fatiamento também funciona com listas:\n",
    "\"\"\"\n",
    "t = ['a', 'b', 'c', 'd', 'e', 'f']\n",
    "t[1:3]"
   ]
  },
  {
   "cell_type": "code",
   "execution_count": 26,
   "id": "465d756b",
   "metadata": {
    "slideshow": {
     "slide_type": "fragment"
    }
   },
   "outputs": [
    {
     "data": {
      "text/plain": [
       "['a', 'b', 'c', 'd', 'e', 'f']"
      ]
     },
     "execution_count": 26,
     "metadata": {},
     "output_type": "execute_result"
    }
   ],
   "source": [
    "\"\"\"Se você omitir o primeiro índice, a fatia começa no início. Se você omitir o segundo, a\n",
    "fatia vai até o final. Se você omitir ambos, a fatia é uma cópia da lista inteira.\"\"\"\n",
    "t[:]"
   ]
  },
  {
   "cell_type": "code",
   "execution_count": 27,
   "id": "d00f5ffb",
   "metadata": {
    "slideshow": {
     "slide_type": "fragment"
    }
   },
   "outputs": [
    {
     "data": {
      "text/plain": [
       "['a', 'x', 'y', 'd', 'e', 'f']"
      ]
     },
     "execution_count": 27,
     "metadata": {},
     "output_type": "execute_result"
    }
   ],
   "source": [
    "\"\"\"Como as listas são mutáveis, pode ser útil fazer uma cópia antes de executar operações\n",
    "que as alterem.\n",
    "Um operador de fatia à esquerda de uma atribuição pode atualizar vários elementos:\n",
    "\"\"\"\n",
    "t = ['a', 'b', 'c', 'd', 'e', 'f']\n",
    "t[1:3] = ['x', 'y']\n",
    "t"
   ]
  },
  {
   "cell_type": "markdown",
   "id": "7f39c588",
   "metadata": {
    "slideshow": {
     "slide_type": "slide"
    }
   },
   "source": [
    "<div style=\"text-align: center\"> <h2> \n",
    "Métodos de listas\n",
    "    </h2> </div>"
   ]
  },
  {
   "cell_type": "code",
   "execution_count": 28,
   "id": "1f523f96",
   "metadata": {
    "slideshow": {
     "slide_type": "fragment"
    }
   },
   "outputs": [
    {
     "data": {
      "text/plain": [
       "['a', 'b', 'c', 'd']"
      ]
     },
     "execution_count": 28,
     "metadata": {},
     "output_type": "execute_result"
    }
   ],
   "source": [
    "\"\"\"O Python oferece métodos que operam em listas. Por exemplo, append adiciona um novo\n",
    "elemento ao fim de uma lista:\n",
    "\"\"\"\n",
    "t = ['a', 'b', 'c']\n",
    "t.append('d')\n",
    "t"
   ]
  },
  {
   "cell_type": "code",
   "execution_count": 30,
   "id": "855bb360",
   "metadata": {
    "slideshow": {
     "slide_type": "fragment"
    }
   },
   "outputs": [
    {
     "data": {
      "text/plain": [
       "['a', 'b', 'c', 'd', 'e']"
      ]
     },
     "execution_count": 30,
     "metadata": {},
     "output_type": "execute_result"
    }
   ],
   "source": [
    "\"\"\"extend toma uma lista como argumento e adiciona todos os elementos:\n",
    "\"\"\"\n",
    "t1 = ['a', 'b', 'c']\n",
    "t2 = ['d', 'e'] #Este exemplo deixa t2 intocado.\n",
    "t1.extend(t2)\n",
    "t1"
   ]
  },
  {
   "cell_type": "code",
   "execution_count": 33,
   "id": "91fa0acf",
   "metadata": {
    "slideshow": {
     "slide_type": "fragment"
    }
   },
   "outputs": [
    {
     "data": {
      "text/plain": [
       "['a', 'b', 'c', 'd', 'e']"
      ]
     },
     "execution_count": 33,
     "metadata": {},
     "output_type": "execute_result"
    }
   ],
   "source": [
    "\"\"\"sort classifica os elementos da lista em ordem ascendente:\n",
    "\"\"\"\n",
    "t = ['d', 'c', 'e', 'b', 'a']\n",
    "t.sort()\n",
    "t"
   ]
  },
  {
   "cell_type": "code",
   "execution_count": 34,
   "id": "cec27090",
   "metadata": {
    "slideshow": {
     "slide_type": "slide"
    }
   },
   "outputs": [
    {
     "data": {
      "text/plain": [
       "'A maior parte dos métodos de listas são nulos; eles alteram a lista e retornam None. Se\\nvocê escrever t = t.sort() por acidente, ficará desapontado com o resultado.'"
      ]
     },
     "execution_count": 34,
     "metadata": {},
     "output_type": "execute_result"
    }
   ],
   "source": [
    "\"\"\"A maior parte dos métodos de listas são nulos; eles alteram a lista e retornam None. Se\n",
    "você escrever t = t.sort() por acidente, ficará desapontado com o resultado.\"\"\""
   ]
  },
  {
   "cell_type": "code",
   "execution_count": 35,
   "id": "55d44138",
   "metadata": {
    "slideshow": {
     "slide_type": "fragment"
    }
   },
   "outputs": [],
   "source": [
    "t = t.sort()"
   ]
  },
  {
   "cell_type": "code",
   "execution_count": 36,
   "id": "10a5b4f7",
   "metadata": {
    "slideshow": {
     "slide_type": "fragment"
    }
   },
   "outputs": [],
   "source": [
    "t"
   ]
  },
  {
   "cell_type": "markdown",
   "id": "9823d556",
   "metadata": {
    "slideshow": {
     "slide_type": "slide"
    }
   },
   "source": [
    "<div style=\"text-align: center\"> <h2> \n",
    "Mapeamento, filtragem e redução\n",
    "    </h2> </div>"
   ]
  },
  {
   "cell_type": "code",
   "execution_count": 37,
   "id": "6573f342",
   "metadata": {
    "slideshow": {
     "slide_type": "fragment"
    }
   },
   "outputs": [],
   "source": [
    "\"\"\"Para somar o total de todos os números em uma lista, você pode usar um loop como esse:\n",
    "\"\"\"\n",
    "def add_all(t):\n",
    "    total = 0\n",
    "    for x in t:\n",
    "        total += x\n",
    "    return total"
   ]
  },
  {
   "cell_type": "code",
   "execution_count": 39,
   "id": "a3a47851",
   "metadata": {
    "slideshow": {
     "slide_type": "fragment"
    }
   },
   "outputs": [
    {
     "data": {
      "text/plain": [
       "6"
      ]
     },
     "execution_count": 39,
     "metadata": {},
     "output_type": "execute_result"
    }
   ],
   "source": [
    "add_all([1,2,3])"
   ]
  },
  {
   "cell_type": "markdown",
   "id": "bb78eb0c",
   "metadata": {
    "slideshow": {
     "slide_type": "slide"
    }
   },
   "source": [
    "total é inicializado com 0. Cada vez que o programa passa pelo loop, x recebe um\n",
    "elemento da lista. O operador += oferece uma forma curta de atualizar uma variável. Esta\n",
    "instrução de atribuição aumentada, total += x é equivalente total = total + x"
   ]
  },
  {
   "cell_type": "code",
   "execution_count": 40,
   "id": "4f0a5f1e",
   "metadata": {
    "slideshow": {
     "slide_type": "fragment"
    }
   },
   "outputs": [
    {
     "data": {
      "text/plain": [
       "6"
      ]
     },
     "execution_count": 40,
     "metadata": {},
     "output_type": "execute_result"
    }
   ],
   "source": [
    "\"\"\"No decorrer da execução do loop, total acumula a soma dos elementos; uma variável\n",
    "usada desta forma às vezes é chamada de acumuladora.\n",
    "Somar todos elementos de uma lista é uma operação tão comum que o Python a oferece\n",
    "como uma função integrada, sum:\n",
    "\"\"\"\n",
    "t = [1, 2, 3]\n",
    "sum(t)"
   ]
  },
  {
   "cell_type": "code",
   "execution_count": 44,
   "id": "bebb0127",
   "metadata": {
    "slideshow": {
     "slide_type": "fragment"
    }
   },
   "outputs": [
    {
     "data": {
      "text/plain": [
       "'res é inicializado com uma lista vazia; cada vez que o programa passa pelo loop,\\nacrescentamos o próximo elemento. Então res é outro tipo de acumulador.'"
      ]
     },
     "execution_count": 44,
     "metadata": {},
     "output_type": "execute_result"
    }
   ],
   "source": [
    "\"\"\"Uma operação como essa, que combina uma sequência de elementos em um único valor,\n",
    "às vezes é chamada de redução.\n",
    "Algumas vezes você quer percorrer uma lista enquanto cria outra. Por exemplo, a função\n",
    "seguinte recebe uma lista de strings e retorna uma nova lista que contém strings com letras\n",
    "maiúsculas:\n",
    "\"\"\"\n",
    "def capitalize_all(t):\n",
    "    res = []\n",
    "    for s in t:\n",
    "        res.append(s.capitalize())\n",
    "    return res \n",
    "\"\"\"res é inicializado com uma lista vazia; cada vez que o programa passa pelo loop,\n",
    "acrescentamos o próximo elemento. Então res é outro tipo de acumulador.\"\"\""
   ]
  },
  {
   "cell_type": "code",
   "execution_count": 42,
   "id": "e4935690",
   "metadata": {
    "slideshow": {
     "slide_type": "fragment"
    }
   },
   "outputs": [
    {
     "data": {
      "text/plain": [
       "['A', 'B', 'C']"
      ]
     },
     "execution_count": 42,
     "metadata": {},
     "output_type": "execute_result"
    }
   ],
   "source": [
    "capitalize_all(['a','b','c'])"
   ]
  },
  {
   "cell_type": "markdown",
   "id": "11cb75cf",
   "metadata": {
    "slideshow": {
     "slide_type": "slide"
    }
   },
   "source": [
    "Uma operação como capitalize_all às vezes é chamada de mapeamento porque ela\n",
    "“mapeia” uma função (nesse caso o método capitalize) sobre cada um dos elementos em\n",
    "uma sequência."
   ]
  },
  {
   "cell_type": "code",
   "execution_count": 45,
   "id": "3ee1e298",
   "metadata": {
    "slideshow": {
     "slide_type": "fragment"
    }
   },
   "outputs": [],
   "source": [
    "\"\"\"Outra operação comum é selecionar alguns dos elementos de uma lista e retornar uma\n",
    "sublista. Por exemplo, a função seguinte recebe uma lista de strings e retorna uma lista que\n",
    "contém apenas strings em letra maiúscula:\n",
    "\"\"\"\n",
    "def only_upper(t):\n",
    "    res = []\n",
    "    for s in t:\n",
    "        if s.isupper():\n",
    "            res.append(s)\n",
    "    return res"
   ]
  },
  {
   "cell_type": "code",
   "execution_count": 47,
   "id": "4d614315",
   "metadata": {
    "slideshow": {
     "slide_type": "fragment"
    }
   },
   "outputs": [
    {
     "data": {
      "text/plain": [
       "['A', 'C', 'D']"
      ]
     },
     "execution_count": 47,
     "metadata": {},
     "output_type": "execute_result"
    }
   ],
   "source": [
    "only_upper(['a','A','b','C','d','D'])"
   ]
  },
  {
   "cell_type": "markdown",
   "id": "23b78f0a",
   "metadata": {
    "slideshow": {
     "slide_type": "fragment"
    }
   },
   "source": [
    "isupper é um método de string que retorna True se a string contiver apenas letras\n",
    "maiúsculas.\n",
    "Uma operação como only_upper é chamada de filtragem porque filtra alguns dos\n",
    "elementos e desconsidera outros.\n",
    "As operações de lista mais comuns podem ser expressas como uma combinação de\n",
    "mapeamento, filtragem e redução"
   ]
  },
  {
   "cell_type": "markdown",
   "id": "7837de07",
   "metadata": {
    "slideshow": {
     "slide_type": "slide"
    }
   },
   "source": [
    "<div style=\"text-align: center\"> <h2> \n",
    "Como excluir elementos\n",
    "    </h2> </div>"
   ]
  },
  {
   "cell_type": "code",
   "execution_count": 10,
   "id": "a644d414",
   "metadata": {
    "slideshow": {
     "slide_type": "fragment"
    }
   },
   "outputs": [
    {
     "data": {
      "text/plain": [
       "['a', 'c']"
      ]
     },
     "execution_count": 10,
     "metadata": {},
     "output_type": "execute_result"
    }
   ],
   "source": [
    "\"\"\"Há várias formas de excluir elementos de uma lista. Se souber o índice do elemento que\n",
    "procura, você pode usar pop:\n",
    "\"\"\"\n",
    "t = ['a', 'b', 'c']\n",
    "x = t.pop(1)\n",
    "t"
   ]
  },
  {
   "cell_type": "code",
   "execution_count": 11,
   "id": "77c8152e",
   "metadata": {
    "slideshow": {
     "slide_type": "fragment"
    }
   },
   "outputs": [
    {
     "data": {
      "text/plain": [
       "'b'"
      ]
     },
     "execution_count": 11,
     "metadata": {},
     "output_type": "execute_result"
    }
   ],
   "source": [
    "x"
   ]
  },
  {
   "cell_type": "code",
   "execution_count": 12,
   "id": "5cc56a69",
   "metadata": {
    "slideshow": {
     "slide_type": "fragment"
    }
   },
   "outputs": [
    {
     "data": {
      "text/plain": [
       "['a', 'c']"
      ]
     },
     "execution_count": 12,
     "metadata": {},
     "output_type": "execute_result"
    }
   ],
   "source": [
    "\"\"\"pop altera a lista e retorna o elemento que foi excluído. Se você não incluir um índice, ele\n",
    "exclui e retorna o último elemento.\n",
    "Se não precisar do valor removido, você pode usar a instrução del:\n",
    "\"\"\"\n",
    "t = ['a', 'b', 'c']\n",
    "del t[1]\n",
    "t"
   ]
  },
  {
   "cell_type": "code",
   "execution_count": 13,
   "id": "e90b42a5",
   "metadata": {
    "slideshow": {
     "slide_type": "fragment"
    }
   },
   "outputs": [
    {
     "data": {
      "text/plain": [
       "['a', 'c']"
      ]
     },
     "execution_count": 13,
     "metadata": {},
     "output_type": "execute_result"
    }
   ],
   "source": [
    "\"\"\"Se souber o elemento que quer excluir (mas não o índice), você pode usar remove:\n",
    "\"\"\"\n",
    "t = ['a', 'b', 'c']\n",
    "t.remove('b')\n",
    "t"
   ]
  },
  {
   "cell_type": "code",
   "execution_count": 14,
   "id": "3bf2b801",
   "metadata": {
    "slideshow": {
     "slide_type": "fragment"
    }
   },
   "outputs": [
    {
     "data": {
      "text/plain": [
       "['a', 'f']"
      ]
     },
     "execution_count": 14,
     "metadata": {},
     "output_type": "execute_result"
    }
   ],
   "source": [
    "\"\"\"O valor devolvido por remove é None.\n",
    "Para remover mais de um elemento, você pode usar del com um índice de fatia:\n",
    "\"\"\"\n",
    "t = ['a', 'b', 'c', 'd', 'e', 'f']\n",
    "del t[1:5]\n",
    "t\n",
    "\n",
    "#Como sempre, a fatia seleciona todos os elementos até, mas não incluindo, o segundo índice."
   ]
  },
  {
   "cell_type": "markdown",
   "id": "a2933760",
   "metadata": {
    "slideshow": {
     "slide_type": "slide"
    }
   },
   "source": [
    "<div style=\"text-align: center\"> <h2> \n",
    "Listas e strings\n",
    "    </h2> </div>"
   ]
  },
  {
   "cell_type": "code",
   "execution_count": 15,
   "id": "97e1f25f",
   "metadata": {
    "slideshow": {
     "slide_type": "fragment"
    }
   },
   "outputs": [
    {
     "data": {
      "text/plain": [
       "['s', 'p', 'a', 'm']"
      ]
     },
     "execution_count": 15,
     "metadata": {},
     "output_type": "execute_result"
    }
   ],
   "source": [
    "\"\"\"Uma string é uma sequência de caracteres e uma lista é uma sequência de valores, mas\n",
    "uma lista de caracteres não é a mesma coisa que uma string. Para converter uma string em\n",
    "uma lista de caracteres, você pode usar list:\n",
    "\"\"\"\n",
    "s = 'spam'\n",
    "t = list(s)\n",
    "t"
   ]
  },
  {
   "cell_type": "markdown",
   "id": "80cbc9af",
   "metadata": {
    "slideshow": {
     "slide_type": "fragment"
    }
   },
   "source": [
    "Como list é o nome de uma função integrada, você deve evitar usá-lo como nome de\n",
    "variável. Também evito usar l porque parece demais com 1. É por isso que uso t."
   ]
  },
  {
   "cell_type": "code",
   "execution_count": 16,
   "id": "01b79c16",
   "metadata": {
    "slideshow": {
     "slide_type": "fragment"
    }
   },
   "outputs": [
    {
     "data": {
      "text/plain": [
       "['pining', 'for', 'the', 'fjords']"
      ]
     },
     "execution_count": 16,
     "metadata": {},
     "output_type": "execute_result"
    }
   ],
   "source": [
    "\"\"\"A função list quebra uma string em letras individuais. Se você quiser quebrar uma string\n",
    "em palavras, você pode usar o método split:\n",
    "\"\"\"\n",
    "s = 'pining for the fjords'\n",
    "t = s.split()\n",
    "t\n"
   ]
  },
  {
   "cell_type": "code",
   "execution_count": 17,
   "id": "12a68a41",
   "metadata": {
    "slideshow": {
     "slide_type": "fragment"
    }
   },
   "outputs": [
    {
     "data": {
      "text/plain": [
       "['spam', 'spam', 'spam']"
      ]
     },
     "execution_count": 17,
     "metadata": {},
     "output_type": "execute_result"
    }
   ],
   "source": [
    "\"\"\"Um argumento opcional chamado delimiter especifica quais caracteres podem ser usados\n",
    "para demonstrar os limites das palavras. O exemplo seguinte usa um hífen como\n",
    "delimitador:\n",
    "\"\"\"\n",
    "s = 'spam-spam-spam'\n",
    "delimiter = '-'\n",
    "t = s.split(delimiter)\n",
    "t\n"
   ]
  },
  {
   "cell_type": "code",
   "execution_count": 18,
   "id": "22f5c262",
   "metadata": {
    "slideshow": {
     "slide_type": "fragment"
    }
   },
   "outputs": [
    {
     "data": {
      "text/plain": [
       "'pining for the fjords'"
      ]
     },
     "execution_count": 18,
     "metadata": {},
     "output_type": "execute_result"
    }
   ],
   "source": [
    "\"\"\"join é o contrário de split. Ele toma uma lista de strings e concatena os elementos. join\n",
    "é um método de string, então é preciso invocá-lo no delimitador e passar a lista como\n",
    "parâmetro:\n",
    "\"\"\"\n",
    "t = ['pining', 'for', 'the', 'fjords']\n",
    "delimiter = ' '\n",
    "s = delimiter.join(t)\n",
    "s"
   ]
  },
  {
   "cell_type": "markdown",
   "id": "574de0fe",
   "metadata": {
    "slideshow": {
     "slide_type": "fragment"
    }
   },
   "source": [
    "Nesse caso, o delimitador é um caractere de espaço, então join coloca um espaço entre as\n",
    "palavras. Para concatenar strings sem espaços, você pode usar a string vazia '', como\n",
    "delimitador."
   ]
  },
  {
   "cell_type": "markdown",
   "id": "1d106c0f",
   "metadata": {
    "slideshow": {
     "slide_type": "slide"
    }
   },
   "source": [
    "<div style=\"text-align: center\"> <h2> \n",
    "Objetos e valores\n",
    "    </h2> </div>"
   ]
  },
  {
   "cell_type": "code",
   "execution_count": 19,
   "id": "b3406e52",
   "metadata": {
    "slideshow": {
     "slide_type": "fragment"
    }
   },
   "outputs": [],
   "source": [
    "\"\"\"Se executarmos essas instruções de atribuição:\n",
    "\"\"\"\n",
    "a = 'banana'\n",
    "b = 'banana'"
   ]
  },
  {
   "cell_type": "code",
   "execution_count": 20,
   "id": "24fa3752",
   "metadata": {
    "slideshow": {
     "slide_type": "fragment"
    }
   },
   "outputs": [
    {
     "data": {
      "text/plain": [
       "True"
      ]
     },
     "execution_count": 20,
     "metadata": {},
     "output_type": "execute_result"
    }
   ],
   "source": [
    "a is b"
   ]
  },
  {
   "cell_type": "code",
   "execution_count": 21,
   "id": "c145c6b4",
   "metadata": {
    "slideshow": {
     "slide_type": "fragment"
    }
   },
   "outputs": [],
   "source": [
    "a=[1,2,3]\n",
    "b=[1,2,3]"
   ]
  },
  {
   "cell_type": "code",
   "execution_count": 22,
   "id": "e79a7e14",
   "metadata": {
    "slideshow": {
     "slide_type": "fragment"
    }
   },
   "outputs": [
    {
     "data": {
      "text/plain": [
       "False"
      ]
     },
     "execution_count": 22,
     "metadata": {},
     "output_type": "execute_result"
    }
   ],
   "source": [
    "a is b"
   ]
  },
  {
   "cell_type": "markdown",
   "id": "d7868001",
   "metadata": {
    "slideshow": {
     "slide_type": "fragment"
    }
   },
   "source": [
    "Nesse caso, diríamos que as duas listas são equivalentes, porque elas têm os mesmos\n",
    "elementos, mas não idênticas, porque elas não são o mesmo objeto. Se dois objetos forem\n",
    "idênticos, eles também são equivalentes, mas se eles forem equivalentes, não são\n",
    "necessariamente idênticos.\n",
    "Até agora, temos usado “objeto” e “valor” de forma intercambiável, mas é mais exato\n",
    "dizer que um objeto tem um valor. Se avaliar [1, 2, 3], você tem um objeto de lista cujo\n",
    "valor é uma sequência de números inteiros. Se outra lista tem os mesmos elementos,\n",
    "dizemos que tem o mesmo valor, mas não é o mesmo objeto."
   ]
  },
  {
   "cell_type": "markdown",
   "id": "f9dc5c06",
   "metadata": {
    "slideshow": {
     "slide_type": "slide"
    }
   },
   "source": [
    "<div style=\"text-align: center\"> <h2> \n",
    "Alias\n",
    "    </h2> </div>"
   ]
  },
  {
   "cell_type": "code",
   "execution_count": 24,
   "id": "a8ad11bb",
   "metadata": {
    "slideshow": {
     "slide_type": "fragment"
    }
   },
   "outputs": [
    {
     "data": {
      "text/plain": [
       "True"
      ]
     },
     "execution_count": 24,
     "metadata": {},
     "output_type": "execute_result"
    }
   ],
   "source": [
    "\"\"\"Se a se refere a um objeto e você atribui b = a, então ambas as variáveis se referem ao\n",
    "mesmo objeto.\n",
    "\"\"\"\n",
    "a = [1, 2, 3]\n",
    "b = a\n",
    "b is a\n"
   ]
  },
  {
   "cell_type": "markdown",
   "id": "388a8c05",
   "metadata": {
    "slideshow": {
     "slide_type": "fragment"
    }
   },
   "source": [
    "A associação de uma variável com um objeto é chamada de referência. Neste exemplo, há\n",
    "duas referências ao mesmo objeto.\n",
    "Um objeto com mais de uma referência tem mais de um nome, então dizemos que o objeto\n",
    "tem um alias.\n",
    "Se o objeto com alias é mutável, alterações feitas em um alias afetam o outro também."
   ]
  },
  {
   "cell_type": "code",
   "execution_count": 25,
   "id": "f12e78ca",
   "metadata": {
    "slideshow": {
     "slide_type": "fragment"
    }
   },
   "outputs": [],
   "source": [
    "b[0] = 42"
   ]
  },
  {
   "cell_type": "code",
   "execution_count": 26,
   "id": "ff06dcb8",
   "metadata": {
    "slideshow": {
     "slide_type": "fragment"
    }
   },
   "outputs": [
    {
     "data": {
      "text/plain": [
       "[42, 2, 3]"
      ]
     },
     "execution_count": 26,
     "metadata": {},
     "output_type": "execute_result"
    }
   ],
   "source": [
    "a"
   ]
  },
  {
   "cell_type": "markdown",
   "id": "b5f34877",
   "metadata": {
    "slideshow": {
     "slide_type": "fragment"
    }
   },
   "source": [
    "<div> <p>Apesar de esse comportamento poder ser útil, ele é passível de erros. Em geral, é mais\n",
    "seguro evitar usar alias ao trabalhar com objetos mutáveis.\n",
    "Para objetos imutáveis como strings, usar alias não é um problema tão grande. Neste\n",
    "exemplo:\n",
    "<br>a = 'banana'\n",
    "<br>b = 'banana'\n",
    "<br>Quase nunca faz diferença se a e b se referem à mesma string ou não.</p> </div>"
   ]
  },
  {
   "cell_type": "markdown",
   "id": "f417bc41",
   "metadata": {
    "slideshow": {
     "slide_type": "slide"
    }
   },
   "source": [
    "<div style=\"text-align: center\"> <h2> \n",
    "Argumentos de listas\n",
    "    </h2> </div>"
   ]
  },
  {
   "cell_type": "code",
   "execution_count": 28,
   "id": "87c0a5d5",
   "metadata": {
    "slideshow": {
     "slide_type": "fragment"
    }
   },
   "outputs": [
    {
     "data": {
      "text/plain": [
       "['b', 'c']"
      ]
     },
     "execution_count": 28,
     "metadata": {},
     "output_type": "execute_result"
    }
   ],
   "source": [
    "\"\"\"Ao passar uma lista a uma função, a função recebe uma referência à lista. Se a função\n",
    "alterar a lista, quem faz a chamada vê a mudança. Por exemplo, delete_head remove o\n",
    "primeiro elemento de uma lista:\n",
    "\"\"\"\n",
    "\n",
    "def delete_head(t):\n",
    "    del t[0]\n",
    "#Ela é usada assim:\n",
    "letters = ['a', 'b', 'c']\n",
    "delete_head(letters)\n",
    "letters"
   ]
  },
  {
   "cell_type": "markdown",
   "id": "271d5bf1",
   "metadata": {
    "slideshow": {
     "slide_type": "fragment"
    }
   },
   "source": [
    "É importante distinguir entre operações que alteram listas e operações que criam novas\n",
    "listas. Por exemplo, o método append altera a lista, mas o operador + cria uma nova lista:"
   ]
  },
  {
   "cell_type": "code",
   "execution_count": 29,
   "id": "59df2242",
   "metadata": {
    "slideshow": {
     "slide_type": "fragment"
    }
   },
   "outputs": [
    {
     "data": {
      "text/plain": [
       "[1, 2, 3]"
      ]
     },
     "execution_count": 29,
     "metadata": {},
     "output_type": "execute_result"
    }
   ],
   "source": [
    "t1 = [1,2]\n",
    "t2 = t1.append(3)\n",
    "t1"
   ]
  },
  {
   "cell_type": "code",
   "execution_count": 31,
   "id": "b05f0a39",
   "metadata": {
    "slideshow": {
     "slide_type": "fragment"
    }
   },
   "outputs": [],
   "source": [
    "t2"
   ]
  },
  {
   "cell_type": "markdown",
   "id": "9b9ff06f",
   "metadata": {
    "slideshow": {
     "slide_type": "fragment"
    }
   },
   "source": [
    "Note que append altera a lista e retorna None (na realidade, o console do Python omite o\n",
    "None da saída, mas você pode conferir usando t2 is None)."
   ]
  },
  {
   "cell_type": "code",
   "execution_count": 32,
   "id": "01fb0b3b",
   "metadata": {
    "slideshow": {
     "slide_type": "fragment"
    }
   },
   "outputs": [
    {
     "data": {
      "text/plain": [
       "True"
      ]
     },
     "execution_count": 32,
     "metadata": {},
     "output_type": "execute_result"
    }
   ],
   "source": [
    "t2 is None"
   ]
  },
  {
   "cell_type": "code",
   "execution_count": 33,
   "id": "8a78ab04",
   "metadata": {
    "slideshow": {
     "slide_type": "fragment"
    }
   },
   "outputs": [
    {
     "data": {
      "text/plain": [
       "[1, 2, 3]"
      ]
     },
     "execution_count": 33,
     "metadata": {},
     "output_type": "execute_result"
    }
   ],
   "source": [
    "t3 = t1 + [4]\n",
    "t1"
   ]
  },
  {
   "cell_type": "code",
   "execution_count": 34,
   "id": "ec9b7963",
   "metadata": {
    "slideshow": {
     "slide_type": "fragment"
    }
   },
   "outputs": [
    {
     "data": {
      "text/plain": [
       "[1, 2, 3, 4]"
      ]
     },
     "execution_count": 34,
     "metadata": {},
     "output_type": "execute_result"
    }
   ],
   "source": [
    "t3"
   ]
  },
  {
   "cell_type": "markdown",
   "id": "fdc8f8bd",
   "metadata": {
    "slideshow": {
     "slide_type": "slide"
    }
   },
   "source": [
    "O operador + cria uma nova lista e deixa a lista original inalterada.\n",
    "Essa diferença é importante quando você escreve funções que devem alterar listas. Por\n",
    "exemplo, esta função não remove a cabeça de uma lista:"
   ]
  },
  {
   "cell_type": "code",
   "execution_count": 35,
   "id": "3211782c",
   "metadata": {
    "slideshow": {
     "slide_type": "fragment"
    }
   },
   "outputs": [],
   "source": [
    "def bad_delete_head(t):\n",
    "    t = t[1:] #ERRADO!"
   ]
  },
  {
   "cell_type": "code",
   "execution_count": 36,
   "id": "fd020190",
   "metadata": {
    "slideshow": {
     "slide_type": "fragment"
    }
   },
   "outputs": [
    {
     "data": {
      "text/plain": [
       "[1, 2, 3]"
      ]
     },
     "execution_count": 36,
     "metadata": {},
     "output_type": "execute_result"
    }
   ],
   "source": [
    "\"\"\"O operador de fatia cria uma nova lista e a atribuição faz t se referir a ela, mas isso não\n",
    "afeta quem faz chamada.\n",
    "\"\"\"\n",
    "t4 = [1, 2, 3]\n",
    "bad_delete_head(t4)\n",
    "t4"
   ]
  },
  {
   "cell_type": "markdown",
   "id": "cdb29a43",
   "metadata": {
    "slideshow": {
     "slide_type": "fragment"
    }
   },
   "source": [
    "No início de bad_delete_head, t e t4 se referem à mesma lista. No final, t se refere a uma\n",
    "nova lista, mas t4 ainda se refere à lista original, inalterada."
   ]
  },
  {
   "cell_type": "code",
   "execution_count": 37,
   "id": "8aac0909",
   "metadata": {
    "slideshow": {
     "slide_type": "fragment"
    }
   },
   "outputs": [],
   "source": [
    "\"\"\"Uma alternativa é escrever uma função que crie e retorne uma nova lista. Por exemplo,\n",
    "tail retorna tudo, exceto o primeiro elemento de uma lista:\n",
    "\"\"\"\n",
    "def tail(t):\n",
    "    return t[1:]"
   ]
  },
  {
   "cell_type": "code",
   "execution_count": 39,
   "id": "5b282a9e",
   "metadata": {
    "slideshow": {
     "slide_type": "fragment"
    }
   },
   "outputs": [
    {
     "data": {
      "text/plain": [
       "['b', 'c']"
      ]
     },
     "execution_count": 39,
     "metadata": {},
     "output_type": "execute_result"
    }
   ],
   "source": [
    "letters = ['a', 'b', 'c']\n",
    "rest = tail(letters)\n",
    "rest #Esta função deixa a lista original inalterada. Ela é usada assim:"
   ]
  },
  {
   "cell_type": "markdown",
   "id": "51aa9015",
   "metadata": {
    "slideshow": {
     "slide_type": "slide"
    }
   },
   "source": [
    "<div style=\"text-align: center\"> <h2> \n",
    "Depuração\n",
    "    </h2> </div>"
   ]
  },
  {
   "cell_type": "markdown",
   "id": "251467ff",
   "metadata": {
    "slideshow": {
     "slide_type": "fragment"
    }
   },
   "source": [
    "O uso descuidado de listas (e de outros objetos mutáveis) pode levar a longas horas de\n",
    "depuração. Aqui estão algumas armadilhas comuns e formas de evitá-las: \n",
    "1. A maior parte dos métodos de listas alteram o argumento e retornam None. Isto é o\n",
    "oposto dos métodos de strings, que retornam uma nova string e deixam a original\n",
    "intocada.\n",
    "\n",
    "Se você está acostumado a escrever código de strings desta forma:"
   ]
  },
  {
   "cell_type": "code",
   "execution_count": 44,
   "id": "f4c1511d",
   "metadata": {
    "slideshow": {
     "slide_type": "fragment"
    }
   },
   "outputs": [
    {
     "data": {
      "text/plain": [
       "'oi'"
      ]
     },
     "execution_count": 44,
     "metadata": {},
     "output_type": "execute_result"
    }
   ],
   "source": [
    "word = 'oi'\n",
    "word = word.strip()\n",
    "word"
   ]
  },
  {
   "cell_type": "code",
   "execution_count": 45,
   "id": "2533b72d",
   "metadata": {
    "slideshow": {
     "slide_type": "fragment"
    }
   },
   "outputs": [],
   "source": [
    "t = [1,2,3]\n",
    "t = t.sort() #ERRADO!\n",
    "t"
   ]
  },
  {
   "cell_type": "markdown",
   "id": "016a05da",
   "metadata": {
    "slideshow": {
     "slide_type": "fragment"
    }
   },
   "source": [
    "Como sort retorna None, a próxima operação que você executar com t provavelmente\n",
    "vai falhar."
   ]
  },
  {
   "cell_type": "markdown",
   "id": "1f9a5493",
   "metadata": {
    "slideshow": {
     "slide_type": "slide"
    }
   },
   "source": [
    "Parte do problema com listas é que há muitas formas de fazer coisas com elas. Por\n",
    "exemplo, para remover um elemento de uma lista você pode usar pop, remove, del ou até\n",
    "uma atribuição de fatia.\n",
    "\n",
    "Para adicionar um elemento você pode usar o método append ou o operador +.\n",
    "Assumindo que t é uma lista e x é um elemento da lista, isto está correto:"
   ]
  },
  {
   "cell_type": "code",
   "execution_count": 52,
   "id": "02262237",
   "metadata": {
    "slideshow": {
     "slide_type": "fragment"
    }
   },
   "outputs": [
    {
     "data": {
      "text/plain": [
       "[1, 2, 3, 4, 'b']"
      ]
     },
     "execution_count": 52,
     "metadata": {},
     "output_type": "execute_result"
    }
   ],
   "source": [
    "t = [1,2,3,4]\n",
    "t.append(x)\n",
    "t"
   ]
  },
  {
   "cell_type": "code",
   "execution_count": 53,
   "id": "19201d4f",
   "metadata": {
    "slideshow": {
     "slide_type": "fragment"
    }
   },
   "outputs": [
    {
     "data": {
      "text/plain": [
       "[1, 2, 3, 4, 'b', 'b']"
      ]
     },
     "execution_count": 53,
     "metadata": {},
     "output_type": "execute_result"
    }
   ],
   "source": [
    "t = t + [x]\n",
    "t"
   ]
  },
  {
   "cell_type": "code",
   "execution_count": 54,
   "id": "352d033a",
   "metadata": {
    "slideshow": {
     "slide_type": "fragment"
    }
   },
   "outputs": [
    {
     "data": {
      "text/plain": [
       "[1, 2, 3, 4, 'b', 'b', 'b']"
      ]
     },
     "execution_count": 54,
     "metadata": {},
     "output_type": "execute_result"
    }
   ],
   "source": [
    "t += [x]\n",
    "t"
   ]
  },
  {
   "cell_type": "markdown",
   "id": "9737570d",
   "metadata": {
    "slideshow": {
     "slide_type": "fragment"
    }
   },
   "source": [
    "E isto está errado:"
   ]
  },
  {
   "cell_type": "code",
   "execution_count": 55,
   "id": "e999267f",
   "metadata": {
    "slideshow": {
     "slide_type": "slide"
    }
   },
   "outputs": [],
   "source": [
    "t.append([x]) # ERRADO!"
   ]
  },
  {
   "cell_type": "code",
   "execution_count": 56,
   "id": "e35bdb4f",
   "metadata": {
    "slideshow": {
     "slide_type": "fragment"
    }
   },
   "outputs": [],
   "source": [
    "t = t.append(x) # ERRADO!"
   ]
  },
  {
   "cell_type": "code",
   "execution_count": 57,
   "id": "e19abcc3",
   "metadata": {
    "slideshow": {
     "slide_type": "fragment"
    }
   },
   "outputs": [
    {
     "ename": "TypeError",
     "evalue": "unsupported operand type(s) for +: 'NoneType' and 'list'",
     "output_type": "error",
     "traceback": [
      "\u001b[1;31m---------------------------------------------------------------------------\u001b[0m",
      "\u001b[1;31mTypeError\u001b[0m                                 Traceback (most recent call last)",
      "\u001b[1;32m~\\AppData\\Local\\Temp/ipykernel_14508/3160424749.py\u001b[0m in \u001b[0;36m<module>\u001b[1;34m\u001b[0m\n\u001b[1;32m----> 1\u001b[1;33m \u001b[0mt\u001b[0m \u001b[1;33m+\u001b[0m \u001b[1;33m[\u001b[0m\u001b[0mx\u001b[0m\u001b[1;33m]\u001b[0m \u001b[1;31m# ERRADO!\u001b[0m\u001b[1;33m\u001b[0m\u001b[1;33m\u001b[0m\u001b[0m\n\u001b[0m",
      "\u001b[1;31mTypeError\u001b[0m: unsupported operand type(s) for +: 'NoneType' and 'list'"
     ]
    }
   ],
   "source": [
    "t + [x] # ERRADO!"
   ]
  },
  {
   "cell_type": "code",
   "execution_count": 58,
   "id": "f75800af",
   "metadata": {
    "slideshow": {
     "slide_type": "fragment"
    }
   },
   "outputs": [
    {
     "ename": "TypeError",
     "evalue": "unsupported operand type(s) for +: 'NoneType' and 'str'",
     "output_type": "error",
     "traceback": [
      "\u001b[1;31m---------------------------------------------------------------------------\u001b[0m",
      "\u001b[1;31mTypeError\u001b[0m                                 Traceback (most recent call last)",
      "\u001b[1;32m~\\AppData\\Local\\Temp/ipykernel_14508/2593894012.py\u001b[0m in \u001b[0;36m<module>\u001b[1;34m\u001b[0m\n\u001b[1;32m----> 1\u001b[1;33m \u001b[0mt\u001b[0m \u001b[1;33m=\u001b[0m \u001b[0mt\u001b[0m \u001b[1;33m+\u001b[0m \u001b[0mx\u001b[0m \u001b[1;31m# ERRADO!\u001b[0m\u001b[1;33m\u001b[0m\u001b[1;33m\u001b[0m\u001b[0m\n\u001b[0m",
      "\u001b[1;31mTypeError\u001b[0m: unsupported operand type(s) for +: 'NoneType' and 'str'"
     ]
    }
   ],
   "source": [
    "t = t + x # ERRADO!"
   ]
  },
  {
   "cell_type": "markdown",
   "id": "f2a983d2",
   "metadata": {
    "slideshow": {
     "slide_type": "slide"
    }
   },
   "source": [
    "Se quiser usar um método como sort, que altera o argumento, mas precisa manter a\n",
    "lista original, você pode fazer uma cópia:"
   ]
  },
  {
   "cell_type": "code",
   "execution_count": 65,
   "id": "a002ddb1",
   "metadata": {
    "slideshow": {
     "slide_type": "fragment"
    }
   },
   "outputs": [],
   "source": [
    "t = [3,2,1]"
   ]
  },
  {
   "cell_type": "code",
   "execution_count": 66,
   "id": "8b4df8a0",
   "metadata": {
    "slideshow": {
     "slide_type": "fragment"
    }
   },
   "outputs": [],
   "source": [
    "t2 = t[:]"
   ]
  },
  {
   "cell_type": "code",
   "execution_count": 67,
   "id": "89d758a8",
   "metadata": {
    "slideshow": {
     "slide_type": "fragment"
    }
   },
   "outputs": [
    {
     "data": {
      "text/plain": [
       "[3, 2, 1]"
      ]
     },
     "execution_count": 67,
     "metadata": {},
     "output_type": "execute_result"
    }
   ],
   "source": [
    "t2.sort()\n",
    "t"
   ]
  },
  {
   "cell_type": "code",
   "execution_count": 68,
   "id": "18460ec4",
   "metadata": {
    "slideshow": {
     "slide_type": "fragment"
    }
   },
   "outputs": [
    {
     "data": {
      "text/plain": [
       "[1, 2, 3]"
      ]
     },
     "execution_count": 68,
     "metadata": {},
     "output_type": "execute_result"
    }
   ],
   "source": [
    "t2"
   ]
  },
  {
   "cell_type": "code",
   "execution_count": 69,
   "id": "d14599e5",
   "metadata": {
    "slideshow": {
     "slide_type": "slide"
    }
   },
   "outputs": [
    {
     "data": {
      "text/plain": [
       "[3, 2, 1]"
      ]
     },
     "execution_count": 69,
     "metadata": {},
     "output_type": "execute_result"
    }
   ],
   "source": [
    "\"\"\"Neste exemplo você poderia usar também a função integrada sorted, que retorna uma\n",
    "nova lista classificada e deixa a original intocada.\n",
    "\"\"\"\n",
    "t2 = sorted(t)\n",
    "t"
   ]
  },
  {
   "cell_type": "code",
   "execution_count": 70,
   "id": "ab49539e",
   "metadata": {
    "slideshow": {
     "slide_type": "fragment"
    }
   },
   "outputs": [
    {
     "data": {
      "text/plain": [
       "[1, 2, 3]"
      ]
     },
     "execution_count": 70,
     "metadata": {},
     "output_type": "execute_result"
    }
   ],
   "source": [
    "t2"
   ]
  },
  {
   "cell_type": "code",
   "execution_count": null,
   "id": "370796d9",
   "metadata": {
    "slideshow": {
     "slide_type": "skip"
    }
   },
   "outputs": [],
   "source": []
  }
 ],
 "metadata": {
  "celltoolbar": "Slideshow",
  "kernelspec": {
   "display_name": "Python 3 (ipykernel)",
   "language": "python",
   "name": "python3"
  },
  "language_info": {
   "codemirror_mode": {
    "name": "ipython",
    "version": 3
   },
   "file_extension": ".py",
   "mimetype": "text/x-python",
   "name": "python",
   "nbconvert_exporter": "python",
   "pygments_lexer": "ipython3",
   "version": "3.10.8"
  }
 },
 "nbformat": 4,
 "nbformat_minor": 5
}
