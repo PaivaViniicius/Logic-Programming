{
 "cells": [
  {
   "cell_type": "markdown",
   "id": "15d5f32b",
   "metadata": {
    "slideshow": {
     "slide_type": "slide"
    }
   },
   "source": [
    "<div style=\"text-align: center\"> <h1> \n",
    "Strings\n",
    "    </h1> </div>"
   ]
  },
  {
   "cell_type": "markdown",
   "id": "e00c889a",
   "metadata": {
    "slideshow": {
     "slide_type": "subslide"
    }
   },
   "source": [
    "Strings não são como números inteiros, de ponto flutuante ou booleanos. Uma string é\n",
    "uma sequência, ou seja, uma coleção ordenada de outros valores. Vamos verificar\n",
    "como acessar os caracteres que compõem uma string e aprenderá alguns métodos que as\n",
    "strings oferecem."
   ]
  },
  {
   "cell_type": "markdown",
   "id": "fe474443",
   "metadata": {
    "slideshow": {
     "slide_type": "slide"
    }
   },
   "source": [
    "<div style=\"text-align: center\"> <h2> \n",
    "Uma string é uma sequência\n",
    "    </h2> </div>"
   ]
  },
  {
   "cell_type": "markdown",
   "id": "cf3cc30d",
   "metadata": {
    "slideshow": {
     "slide_type": "subslide"
    }
   },
   "source": [
    "Uma string é uma sequência de caracteres. Você pode acessar um caractere de cada vez\n",
    "com o operador de colchete:"
   ]
  },
  {
   "cell_type": "code",
   "execution_count": 1,
   "id": "f5e1a563",
   "metadata": {
    "slideshow": {
     "slide_type": "fragment"
    }
   },
   "outputs": [],
   "source": [
    "fruit = 'banana'"
   ]
  },
  {
   "cell_type": "code",
   "execution_count": 2,
   "id": "d370a21e",
   "metadata": {
    "slideshow": {
     "slide_type": "fragment"
    }
   },
   "outputs": [],
   "source": [
    "\"\"\"A expressão entre colchetes chama-se índice. O índice aponta qual caractere da sequência\n",
    "você quer (daí o nome).\"\"\"\n",
    "letter = fruit[1]"
   ]
  },
  {
   "cell_type": "code",
   "execution_count": 3,
   "id": "cfacf039",
   "metadata": {
    "slideshow": {
     "slide_type": "fragment"
    }
   },
   "outputs": [
    {
     "data": {
      "text/plain": [
       "'a'"
      ]
     },
     "execution_count": 3,
     "metadata": {},
     "output_type": "execute_result"
    }
   ],
   "source": [
    "letter"
   ]
  },
  {
   "cell_type": "markdown",
   "id": "74ba91a2",
   "metadata": {
    "slideshow": {
     "slide_type": "slide"
    }
   },
   "source": [
    "Para a maior parte das pessoas, a primeira letra de ‘banana’ é b, não a. Mas para os\n",
    "cientistas da computação, o índice é uma referência do começo da string, e a referência da\n",
    "primeira letra é zero."
   ]
  },
  {
   "cell_type": "code",
   "execution_count": 4,
   "id": "ce33f439",
   "metadata": {
    "slideshow": {
     "slide_type": "fragment"
    }
   },
   "outputs": [],
   "source": [
    "letter = fruit[0]"
   ]
  },
  {
   "cell_type": "code",
   "execution_count": 5,
   "id": "e8911eec",
   "metadata": {
    "slideshow": {
     "slide_type": "fragment"
    }
   },
   "outputs": [
    {
     "data": {
      "text/plain": [
       "'b'"
      ]
     },
     "execution_count": 5,
     "metadata": {},
     "output_type": "execute_result"
    }
   ],
   "source": [
    "letter"
   ]
  },
  {
   "cell_type": "code",
   "execution_count": 6,
   "id": "f890d4e4",
   "metadata": {
    "slideshow": {
     "slide_type": "fragment"
    }
   },
   "outputs": [
    {
     "data": {
      "text/plain": [
       "'b'"
      ]
     },
     "execution_count": 6,
     "metadata": {},
     "output_type": "execute_result"
    }
   ],
   "source": [
    "i = 0\n",
    "fruit[i]"
   ]
  },
  {
   "cell_type": "code",
   "execution_count": 7,
   "id": "1f601282",
   "metadata": {
    "slideshow": {
     "slide_type": "fragment"
    }
   },
   "outputs": [
    {
     "data": {
      "text/plain": [
       "'a'"
      ]
     },
     "execution_count": 7,
     "metadata": {},
     "output_type": "execute_result"
    }
   ],
   "source": [
    "fruit[i+1]"
   ]
  },
  {
   "cell_type": "markdown",
   "id": "e0591a47",
   "metadata": {
    "slideshow": {
     "slide_type": "subslide"
    }
   },
   "source": [
    "Tente adicionar racional"
   ]
  },
  {
   "cell_type": "code",
   "execution_count": 8,
   "id": "fa89a1e3",
   "metadata": {
    "slideshow": {
     "slide_type": "fragment"
    }
   },
   "outputs": [
    {
     "ename": "TypeError",
     "evalue": "string indices must be integers",
     "output_type": "error",
     "traceback": [
      "\u001b[1;31m---------------------------------------------------------------------------\u001b[0m",
      "\u001b[1;31mTypeError\u001b[0m                                 Traceback (most recent call last)",
      "Input \u001b[1;32mIn [8]\u001b[0m, in \u001b[0;36m<cell line: 1>\u001b[1;34m()\u001b[0m\n\u001b[1;32m----> 1\u001b[0m \u001b[43mfruit\u001b[49m\u001b[43m[\u001b[49m\u001b[43mi\u001b[49m\u001b[38;5;241;43m+\u001b[39;49m\u001b[38;5;241;43m0.5\u001b[39;49m\u001b[43m]\u001b[49m\n",
      "\u001b[1;31mTypeError\u001b[0m: string indices must be integers"
     ]
    }
   ],
   "source": [
    "fruit[i+0.5]"
   ]
  },
  {
   "cell_type": "markdown",
   "id": "7b5b7e12",
   "metadata": {
    "slideshow": {
     "slide_type": "slide"
    }
   },
   "source": [
    "<div style=\"text-align: center\"> <h2> \n",
    "len\n",
    "    </h2> </div>"
   ]
  },
  {
   "cell_type": "markdown",
   "id": "9b5cb76e",
   "metadata": {
    "slideshow": {
     "slide_type": "subslide"
    }
   },
   "source": [
    "len é uma função integrada que devolve o número de caracteres em uma string:"
   ]
  },
  {
   "cell_type": "code",
   "execution_count": 9,
   "id": "b021d5fe",
   "metadata": {
    "slideshow": {
     "slide_type": "fragment"
    }
   },
   "outputs": [
    {
     "data": {
      "text/plain": [
       "6"
      ]
     },
     "execution_count": 9,
     "metadata": {},
     "output_type": "execute_result"
    }
   ],
   "source": [
    "fruit = 'banana'\n",
    "len(fruit)"
   ]
  },
  {
   "cell_type": "markdown",
   "id": "425d8f56",
   "metadata": {
    "slideshow": {
     "slide_type": "subslide"
    }
   },
   "source": [
    "Para obter a última letra de uma string, pode parecer uma boa ideia tentar algo assim"
   ]
  },
  {
   "cell_type": "code",
   "execution_count": 10,
   "id": "c4d66b6b",
   "metadata": {
    "slideshow": {
     "slide_type": "fragment"
    }
   },
   "outputs": [
    {
     "ename": "IndexError",
     "evalue": "string index out of range",
     "output_type": "error",
     "traceback": [
      "\u001b[1;31m---------------------------------------------------------------------------\u001b[0m",
      "\u001b[1;31mIndexError\u001b[0m                                Traceback (most recent call last)",
      "Input \u001b[1;32mIn [10]\u001b[0m, in \u001b[0;36m<cell line: 2>\u001b[1;34m()\u001b[0m\n\u001b[0;32m      1\u001b[0m length \u001b[38;5;241m=\u001b[39m \u001b[38;5;28mlen\u001b[39m(fruit)\n\u001b[1;32m----> 2\u001b[0m last \u001b[38;5;241m=\u001b[39m \u001b[43mfruit\u001b[49m\u001b[43m[\u001b[49m\u001b[43mlength\u001b[49m\u001b[43m]\u001b[49m\n",
      "\u001b[1;31mIndexError\u001b[0m: string index out of range"
     ]
    }
   ],
   "source": [
    "length = len(fruit)\n",
    "last = fruit[length]"
   ]
  },
  {
   "cell_type": "markdown",
   "id": "8b155435",
   "metadata": {
    "slideshow": {
     "slide_type": "subslide"
    }
   },
   "source": [
    "A razão de haver um IndexError aqui é que não há nenhuma letra em ‘banana’ com o\n",
    "índice 6. Como a contagem inicia no zero, as seis letras são numeradas de 0 a 5. Para obter\n",
    "o último caractere, você deve subtrair 1 de length:"
   ]
  },
  {
   "cell_type": "code",
   "execution_count": 11,
   "id": "5fb13093",
   "metadata": {
    "slideshow": {
     "slide_type": "fragment"
    }
   },
   "outputs": [
    {
     "data": {
      "text/plain": [
       "'a'"
      ]
     },
     "execution_count": 11,
     "metadata": {},
     "output_type": "execute_result"
    }
   ],
   "source": [
    "last = fruit[length-1]\n",
    "last"
   ]
  },
  {
   "cell_type": "markdown",
   "id": "73806c59",
   "metadata": {
    "slideshow": {
     "slide_type": "fragment"
    }
   },
   "source": [
    "Ou você pode usar índices negativos, que contam de trás para a frente a partir do fim da\n",
    "string. A expressão fruit[-1] apresenta a última letra, fruit[-2] apresenta a segunda letra de\n",
    "trás para a frente, e assim por diante."
   ]
  },
  {
   "cell_type": "markdown",
   "id": "bf935d64",
   "metadata": {
    "slideshow": {
     "slide_type": "slide"
    }
   },
   "source": [
    "<div style=\"text-align: center\"> <h2> \n",
    "Travessia com loop for\n",
    "    </h2> </div>"
   ]
  },
  {
   "cell_type": "markdown",
   "id": "d2d07727",
   "metadata": {
    "slideshow": {
     "slide_type": "subslide"
    }
   },
   "source": [
    "Muitos cálculos implicam o processamento de um caractere por vez em uma string.\n",
    "Muitas vezes começam no início, selecionam um caractere por vez, fazem algo e\n",
    "continuam até o fim. Este modelo do processamento chama-se travessia. Um modo de\n",
    "escrever uma travessia é com o loop while:"
   ]
  },
  {
   "cell_type": "code",
   "execution_count": 12,
   "id": "3e37950f",
   "metadata": {
    "slideshow": {
     "slide_type": "fragment"
    }
   },
   "outputs": [
    {
     "name": "stdout",
     "output_type": "stream",
     "text": [
      "b\n",
      "a\n",
      "n\n",
      "a\n",
      "n\n",
      "a\n"
     ]
    }
   ],
   "source": [
    "index = 0\n",
    "while index < len(fruit):\n",
    "    letter = fruit[index]\n",
    "    print(letter)\n",
    "    index = index + 1"
   ]
  },
  {
   "cell_type": "markdown",
   "id": "42dd1a8a",
   "metadata": {
    "slideshow": {
     "slide_type": "subslide"
    }
   },
   "source": [
    "Este loop atravessa a string e exibe cada letra sozinha em uma linha. A condição do loop é\n",
    "index <len (fruit), então quando index é igual ao comprimento da string, a condição é falsa\n",
    "e o corpo do loop não é mais executado. O último caractere acessado é aquele com o\n",
    "índice len (fruit)-1, que é o último caractere na string."
   ]
  },
  {
   "cell_type": "markdown",
   "id": "6fca06f1",
   "metadata": {
    "slideshow": {
     "slide_type": "fragment"
    }
   },
   "source": [
    "Como exercício, escreva uma função que receba uma string como argumento e exiba as\n",
    "letras de trás para a frente, uma por linha."
   ]
  },
  {
   "cell_type": "code",
   "execution_count": 13,
   "id": "fe3f6db7",
   "metadata": {
    "slideshow": {
     "slide_type": "subslide"
    }
   },
   "outputs": [
    {
     "name": "stdout",
     "output_type": "stream",
     "text": [
      "Digite uma palavra: Oi\n",
      "i\n",
      "O\n"
     ]
    }
   ],
   "source": [
    "palavra = input(\"Digite uma palavra: \")\n",
    "index = 0\n",
    "while index < len(palavra):\n",
    "    invertida = len(palavra) - 1\n",
    "    letter = palavra[index - invertida]\n",
    "    print(letter)\n",
    "    index = index + 1"
   ]
  },
  {
   "cell_type": "code",
   "execution_count": 14,
   "id": "b1ca45c9",
   "metadata": {
    "slideshow": {
     "slide_type": "subslide"
    }
   },
   "outputs": [
    {
     "name": "stdout",
     "output_type": "stream",
     "text": [
      "b\n",
      "a\n",
      "n\n",
      "a\n",
      "n\n",
      "a\n"
     ]
    }
   ],
   "source": [
    "\"\"\"Outra forma de escrever uma travessia é com um loop for:\"\"\"\n",
    "for letter in fruit:\n",
    "    print(letter)"
   ]
  },
  {
   "cell_type": "markdown",
   "id": "aafcb39e",
   "metadata": {
    "slideshow": {
     "slide_type": "fragment"
    }
   },
   "source": [
    "<div style=\"text-align: left\"><p><strong>Atenção</strong><br>\n",
    "O próximo exemplo mostra como usar a concatenação (adição de strings) e um loop for\n",
    "para gerar uma série abecedária (isto é, em ordem alfabética).Podemos criar nomes como Jack, Kack, Lack, Mack, Nack e Pack. Este loop produz estes\n",
    "nomes em ordem:\n",
    "    \n",
    "</div>"
   ]
  },
  {
   "cell_type": "code",
   "execution_count": 15,
   "id": "b3d67bb1",
   "metadata": {
    "slideshow": {
     "slide_type": "subslide"
    }
   },
   "outputs": [
    {
     "name": "stdout",
     "output_type": "stream",
     "text": [
      "Jack\n",
      "Kack\n",
      "Lack\n",
      "Mack\n",
      "Nack\n",
      "Pack\n"
     ]
    }
   ],
   "source": [
    "prefixes = 'JKLMNP'\n",
    "suffix = 'ack'\n",
    "for letter in prefixes:\n",
    "    print(letter + suffix)"
   ]
  },
  {
   "cell_type": "markdown",
   "id": "3b68beea",
   "metadata": {
    "slideshow": {
     "slide_type": "slide"
    }
   },
   "source": [
    "<div style=\"text-align: center\"><p><h2>Fatiamento de strings</h2><br></p></div>"
   ]
  },
  {
   "cell_type": "markdown",
   "id": "c4cf4955",
   "metadata": {
    "slideshow": {
     "slide_type": "subslide"
    }
   },
   "source": [
    "Um segmento de uma string é chamado de fatia. Selecionar uma fatia é como selecionar\n",
    "um caractere:"
   ]
  },
  {
   "cell_type": "code",
   "execution_count": 16,
   "id": "77b641c4",
   "metadata": {
    "slideshow": {
     "slide_type": "fragment"
    }
   },
   "outputs": [
    {
     "data": {
      "text/plain": [
       "'Monty'"
      ]
     },
     "execution_count": 16,
     "metadata": {},
     "output_type": "execute_result"
    }
   ],
   "source": [
    "s = 'Monty Python'\n",
    "s[0:5]"
   ]
  },
  {
   "cell_type": "code",
   "execution_count": 17,
   "id": "cf3738eb",
   "metadata": {
    "slideshow": {
     "slide_type": "fragment"
    }
   },
   "outputs": [
    {
     "data": {
      "text/plain": [
       "'Python'"
      ]
     },
     "execution_count": 17,
     "metadata": {},
     "output_type": "execute_result"
    }
   ],
   "source": [
    "s[6:12]"
   ]
  },
  {
   "cell_type": "markdown",
   "id": "9be84bf5",
   "metadata": {
    "slideshow": {
     "slide_type": "subslide"
    }
   },
   "source": [
    "O operador [n:m] retorna a parte da string do “enésimo” caractere ao “emésimo”\n",
    "caractere, incluindo o primeiro, mas excluindo o último. Este comportamento é\n",
    "contraintuitivo, porém pode ajudar a imaginar os índices que indicam a parte entre os\n",
    "caracteres."
   ]
  },
  {
   "cell_type": "code",
   "execution_count": 18,
   "id": "ddb7331a",
   "metadata": {
    "slideshow": {
     "slide_type": "fragment"
    }
   },
   "outputs": [
    {
     "data": {
      "text/plain": [
       "'ban'"
      ]
     },
     "execution_count": 18,
     "metadata": {},
     "output_type": "execute_result"
    }
   ],
   "source": [
    "fruit = \"banana\"\n",
    "fruit[:3]"
   ]
  },
  {
   "cell_type": "code",
   "execution_count": 19,
   "id": "c8378f2b",
   "metadata": {
    "slideshow": {
     "slide_type": "fragment"
    }
   },
   "outputs": [
    {
     "data": {
      "text/plain": [
       "'ana'"
      ]
     },
     "execution_count": 19,
     "metadata": {},
     "output_type": "execute_result"
    }
   ],
   "source": [
    "fruit[3:]"
   ]
  },
  {
   "cell_type": "code",
   "execution_count": 20,
   "id": "41f50fd0",
   "metadata": {
    "slideshow": {
     "slide_type": "fragment"
    }
   },
   "outputs": [
    {
     "data": {
      "text/plain": [
       "''"
      ]
     },
     "execution_count": 20,
     "metadata": {},
     "output_type": "execute_result"
    }
   ],
   "source": [
    "\"\"\"Se o primeiro índice for maior ou igual ao segundo, o resultado é uma string vazia,\n",
    "representada por duas aspas:\"\"\"\n",
    "fruit[3:3]"
   ]
  },
  {
   "cell_type": "markdown",
   "id": "39f5fe22",
   "metadata": {
    "slideshow": {
     "slide_type": "subslide"
    }
   },
   "source": [
    "Uma string vazia não contém nenhum caractere e tem o comprimento 0, fora isso, é igual\n",
    "a qualquer outra string."
   ]
  },
  {
   "cell_type": "markdown",
   "id": "68fdca15",
   "metadata": {
    "slideshow": {
     "slide_type": "fragment"
    }
   },
   "source": [
    "Continuando este exemplo, o que você acha que fruit[:] significa? Teste e veja."
   ]
  },
  {
   "cell_type": "code",
   "execution_count": 21,
   "id": "920a52ab",
   "metadata": {
    "slideshow": {
     "slide_type": "fragment"
    }
   },
   "outputs": [
    {
     "data": {
      "text/plain": [
       "'banana'"
      ]
     },
     "execution_count": 21,
     "metadata": {},
     "output_type": "execute_result"
    }
   ],
   "source": [
    "fruit[:]"
   ]
  },
  {
   "cell_type": "markdown",
   "id": "0d1e547c",
   "metadata": {
    "slideshow": {
     "slide_type": "slide"
    }
   },
   "source": [
    "<div style=\"text-align: center\"><p><h2>Strings são imutáveis</h2><br></p></div>"
   ]
  },
  {
   "cell_type": "markdown",
   "id": "28a223af",
   "metadata": {
    "slideshow": {
     "slide_type": "subslide"
    }
   },
   "source": [
    "É tentador usar o operador [] no lado esquerdo de uma atribuição, com a intenção de\n",
    "alterar um caractere em uma string. Por exemplo:"
   ]
  },
  {
   "cell_type": "code",
   "execution_count": 22,
   "id": "858ccf61",
   "metadata": {
    "slideshow": {
     "slide_type": "fragment"
    }
   },
   "outputs": [
    {
     "ename": "TypeError",
     "evalue": "'str' object does not support item assignment",
     "output_type": "error",
     "traceback": [
      "\u001b[1;31m---------------------------------------------------------------------------\u001b[0m",
      "\u001b[1;31mTypeError\u001b[0m                                 Traceback (most recent call last)",
      "Input \u001b[1;32mIn [22]\u001b[0m, in \u001b[0;36m<cell line: 2>\u001b[1;34m()\u001b[0m\n\u001b[0;32m      1\u001b[0m greeting \u001b[38;5;241m=\u001b[39m \u001b[38;5;124m'\u001b[39m\u001b[38;5;124mHello, world!\u001b[39m\u001b[38;5;124m'\u001b[39m\n\u001b[1;32m----> 2\u001b[0m greeting[\u001b[38;5;241m0\u001b[39m] \u001b[38;5;241m=\u001b[39m \u001b[38;5;124m'\u001b[39m\u001b[38;5;124mJ\u001b[39m\u001b[38;5;124m'\u001b[39m\n",
      "\u001b[1;31mTypeError\u001b[0m: 'str' object does not support item assignment"
     ]
    }
   ],
   "source": [
    "greeting = 'Hello, world!'\n",
    "greeting[0] = 'J'"
   ]
  },
  {
   "cell_type": "markdown",
   "id": "e9b30bfa",
   "metadata": {
    "slideshow": {
     "slide_type": "subslide"
    }
   },
   "source": [
    "O “objeto” neste caso é a string e o “item” é o caractere que você tentou atribuir. \n",
    "A razão do erro é que as strings são imutáveis, o que significa que você não pode alterar\n",
    "uma string existente."
   ]
  },
  {
   "cell_type": "code",
   "execution_count": 23,
   "id": "eed4c208",
   "metadata": {
    "slideshow": {
     "slide_type": "fragment"
    }
   },
   "outputs": [
    {
     "data": {
      "text/plain": [
       "'Jello, world!'"
      ]
     },
     "execution_count": 23,
     "metadata": {},
     "output_type": "execute_result"
    }
   ],
   "source": [
    "\"\"\"O melhor que você pode fazer é criar uma string que seja uma\n",
    "variação da original:\"\"\"\n",
    "greeting = 'Hello, world!'\n",
    "new_greeting = 'J' + greeting[1:]\n",
    "new_greeting"
   ]
  },
  {
   "cell_type": "markdown",
   "id": "e75c14b6",
   "metadata": {
    "slideshow": {
     "slide_type": "fragment"
    }
   },
   "source": [
    "Esse exemplo concatena uma nova primeira letra a uma fatia de greeting. Não tem efeito\n",
    "sobre a string original."
   ]
  },
  {
   "cell_type": "markdown",
   "id": "21d07999",
   "metadata": {
    "slideshow": {
     "slide_type": "slide"
    }
   },
   "source": [
    "<div style=\"text-align: center\"><p><h2>Buscando</h2><br></p></div>"
   ]
  },
  {
   "cell_type": "code",
   "execution_count": 24,
   "id": "13c56f98",
   "metadata": {
    "slideshow": {
     "slide_type": "fragment"
    }
   },
   "outputs": [],
   "source": [
    "\"\"\"O que faz a seguinte função?\"\"\"\n",
    "def find(word, letter):\n",
    "    index = 0\n",
    "    while index < len(word):\n",
    "        if word[index] == letter:\n",
    "            return index\n",
    "        index = index + 1\n",
    "    return-1"
   ]
  },
  {
   "cell_type": "code",
   "execution_count": 25,
   "id": "1a124263",
   "metadata": {
    "slideshow": {
     "slide_type": "fragment"
    }
   },
   "outputs": [
    {
     "data": {
      "text/plain": [
       "2"
      ]
     },
     "execution_count": 25,
     "metadata": {},
     "output_type": "execute_result"
    }
   ],
   "source": [
    "find('banana','n')"
   ]
  },
  {
   "cell_type": "markdown",
   "id": "3c890d52",
   "metadata": {
    "slideshow": {
     "slide_type": "subslide"
    }
   },
   "source": [
    "De certo modo, find é o inverso do operador []. Em vez de tomar um índice e extrair o\n",
    "caractere correspondente, ele toma um caractere e encontra o índice onde aquele caractere\n",
    "aparece. Se o caractere não for encontrado, a função retorna -1.\n",
    "Esse é o primeiro exemplo que vimos de uma instrução return dentro de um loop. Se\n",
    "word[index] == letter, a função sai do loop e retorna imediatamente.\n",
    "Se o caractere não aparecer na string, o programa sai do loop normalmente e devolve -1.\n",
    "Este modelo de cálculo – atravessar uma sequência e retornar quando encontramos o que\n",
    "estamos procurando – chama-se busca."
   ]
  },
  {
   "cell_type": "markdown",
   "id": "5dc7e0f1",
   "metadata": {
    "slideshow": {
     "slide_type": "slide"
    }
   },
   "source": [
    "<div style=\"text-align: center\"><p><h2>Loop e contagem</h2><br></p></div>"
   ]
  },
  {
   "cell_type": "code",
   "execution_count": 26,
   "id": "4ffab69a",
   "metadata": {
    "slideshow": {
     "slide_type": "fragment"
    }
   },
   "outputs": [
    {
     "name": "stdout",
     "output_type": "stream",
     "text": [
      "3\n"
     ]
    }
   ],
   "source": [
    "\"\"\"O seguinte programa conta o número de vezes que a letra a aparece em uma string:\"\"\"\n",
    "word = 'banana'\n",
    "count = 0\n",
    "for letter in word:\n",
    "    if letter == 'a':\n",
    "        count = count + 1\n",
    "print(count)"
   ]
  },
  {
   "cell_type": "markdown",
   "id": "10d06150",
   "metadata": {
    "slideshow": {
     "slide_type": "subslide"
    }
   },
   "source": [
    "Este programa demonstra outro padrão de computação chamado contador. A variável\n",
    "count é inicializada com 0 e então incrementada cada vez que um a é encontrado. Ao sair\n",
    "do loop, count contém o resultado – o número total de letras 'a'."
   ]
  },
  {
   "cell_type": "markdown",
   "id": "5aa8353f",
   "metadata": {
    "slideshow": {
     "slide_type": "slide"
    }
   },
   "source": [
    "<div style=\"text-align: center\"><p><h2>Métodos de strings</h2><br></p></div>"
   ]
  },
  {
   "cell_type": "code",
   "execution_count": 27,
   "id": "41cda5b5",
   "metadata": {
    "slideshow": {
     "slide_type": "subslide"
    }
   },
   "outputs": [
    {
     "data": {
      "text/plain": [
       "'BANANA'"
      ]
     },
     "execution_count": 27,
     "metadata": {},
     "output_type": "execute_result"
    }
   ],
   "source": [
    "\"\"\"As strings oferecem métodos que executam várias operações úteis. Um método é\n",
    "semelhante a uma função – toma argumentos e devolve um valor –, mas a sintaxe é\n",
    "diferente. Por exemplo, o método upper recebe uma string e devolve uma nova string com\n",
    "todas as letras maiúsculas.\n",
    "Em vez da sintaxe de função upper(word), ela usa a sintaxe de método word.upper():\"\"\"\n",
    "word = 'banana'\n",
    "new_word = word.upper()\n",
    "new_word"
   ]
  },
  {
   "cell_type": "code",
   "execution_count": 31,
   "id": "a108e419",
   "metadata": {
    "slideshow": {
     "slide_type": "fragment"
    }
   },
   "outputs": [],
   "source": [
    "new_word2 = new_word.lower()\n",
    "new_word2\n",
    "new_word3 = \"Eu gosto de frutas\""
   ]
  },
  {
   "cell_type": "code",
   "execution_count": 32,
   "id": "16fd23e6",
   "metadata": {
    "slideshow": {
     "slide_type": "subslide"
    }
   },
   "outputs": [
    {
     "data": {
      "text/plain": [
       "['Eu', 'gosto', 'de', 'frutas']"
      ]
     },
     "execution_count": 32,
     "metadata": {},
     "output_type": "execute_result"
    }
   ],
   "source": [
    "# Dividir uma string por espaços em branco (padrão)\n",
    "new_word3.split()"
   ]
  },
  {
   "cell_type": "code",
   "execution_count": 33,
   "id": "6afb5bd7",
   "metadata": {
    "slideshow": {
     "slide_type": "fragment"
    }
   },
   "outputs": [
    {
     "data": {
      "text/plain": [
       "['Eu gosto de frut', 's']"
      ]
     },
     "execution_count": 33,
     "metadata": {},
     "output_type": "execute_result"
    }
   ],
   "source": [
    "# Dividir uma string por um elemento específico\n",
    "new_word3.split('a')"
   ]
  },
  {
   "cell_type": "code",
   "execution_count": 28,
   "id": "c470507a",
   "metadata": {
    "slideshow": {
     "slide_type": "subslide"
    }
   },
   "outputs": [
    {
     "data": {
      "text/plain": [
       "1"
      ]
     },
     "execution_count": 28,
     "metadata": {},
     "output_type": "execute_result"
    }
   ],
   "source": [
    "\"\"\"Esta forma de notação de ponto especifica o nome do método, upper e o nome da string,\n",
    "word, à qual o método será aplicado. Os parênteses vazios indicam que este método não\n",
    "toma nenhum argumento.\n",
    "Uma chamada de método denomina-se invocação; neste caso, diríamos que estamos\n",
    "invocando upper em word.\n",
    "E, na verdade, há um método de string denominado find, que é notavelmente semelhante\n",
    "à função que escrevemos:\"\"\"\n",
    "word = 'banana'\n",
    "index = word.find('a')\n",
    "index"
   ]
  },
  {
   "cell_type": "code",
   "execution_count": 12,
   "id": "696357d8",
   "metadata": {
    "slideshow": {
     "slide_type": "subslide"
    }
   },
   "outputs": [
    {
     "data": {
      "text/plain": [
       "2"
      ]
     },
     "execution_count": 12,
     "metadata": {},
     "output_type": "execute_result"
    }
   ],
   "source": [
    "\"\"\"Neste exemplo, invocamos find em word e passamos a letra que estamos procurando\n",
    "como um parâmetro.\n",
    "Na verdade, o método find é mais geral que a nossa função; ele pode encontrar\n",
    "substrings, não apenas caracteres:\"\"\"\n",
    "word.find('na')"
   ]
  },
  {
   "cell_type": "code",
   "execution_count": 13,
   "id": "f08aaf20",
   "metadata": {
    "slideshow": {
     "slide_type": "fragment"
    }
   },
   "outputs": [
    {
     "data": {
      "text/plain": [
       "4"
      ]
     },
     "execution_count": 13,
     "metadata": {},
     "output_type": "execute_result"
    }
   ],
   "source": [
    "\"\"\"Por padrão, find inicia no começo da string, mas pode receber um segundo argumento, o\n",
    "índice onde deve começar:\"\"\"\n",
    "word.find('na', 3)"
   ]
  },
  {
   "cell_type": "code",
   "execution_count": 17,
   "id": "c9c8a7ab",
   "metadata": {
    "slideshow": {
     "slide_type": "subslide"
    }
   },
   "outputs": [
    {
     "data": {
      "text/plain": [
       "-1"
      ]
     },
     "execution_count": 17,
     "metadata": {},
     "output_type": "execute_result"
    }
   ],
   "source": [
    "\"\"\"Este é um exemplo de um argumento opcional. find também pode receber um terceiro\n",
    "argumento, o índice para onde deve parar:\"\"\"\n",
    "name = 'bob'\n",
    "name.find('b', 1, 2)"
   ]
  },
  {
   "cell_type": "markdown",
   "id": "e18029d0",
   "metadata": {
    "slideshow": {
     "slide_type": "fragment"
    }
   },
   "source": [
    "Esta busca falha porque 'b' não aparece no intervalo do índice de 1 a 2, não incluindo 2.\n",
    "Fazer buscas até (mas não incluindo) o segundo índice torna find similar ao operador de\n",
    "fatiamento."
   ]
  },
  {
   "cell_type": "markdown",
   "id": "db1e7422",
   "metadata": {
    "slideshow": {
     "slide_type": "slide"
    }
   },
   "source": [
    "<div style=\"text-align: center\"><p><h2>Operador in</h2><br></p></div>"
   ]
  },
  {
   "cell_type": "code",
   "execution_count": 20,
   "id": "d23e697a",
   "metadata": {
    "slideshow": {
     "slide_type": "fragment"
    }
   },
   "outputs": [
    {
     "data": {
      "text/plain": [
       "True"
      ]
     },
     "execution_count": 20,
     "metadata": {},
     "output_type": "execute_result"
    }
   ],
   "source": [
    "\"\"\"A palavra in é um operador booleano que recebe duas strings e retorna True se a primeira\n",
    "aparecer como uma substring da segunda:\"\"\"\n",
    "\n",
    "'a' in 'banana'"
   ]
  },
  {
   "cell_type": "code",
   "execution_count": 21,
   "id": "e88e4d85",
   "metadata": {
    "slideshow": {
     "slide_type": "fragment"
    }
   },
   "outputs": [
    {
     "data": {
      "text/plain": [
       "False"
      ]
     },
     "execution_count": 21,
     "metadata": {},
     "output_type": "execute_result"
    }
   ],
   "source": [
    "'seed' in 'banana'"
   ]
  },
  {
   "cell_type": "code",
   "execution_count": 22,
   "id": "964fffa1",
   "metadata": {
    "slideshow": {
     "slide_type": "subslide"
    }
   },
   "outputs": [],
   "source": [
    "\"\"\"Por exemplo, a seguinte função imprime todas as letras de word1 que também aparecem\n",
    "em word2:\"\"\"\n",
    "def in_both(word1, word2):\n",
    "    for letter in word1:\n",
    "        if letter in word2:\n",
    "            print(letter)"
   ]
  },
  {
   "cell_type": "code",
   "execution_count": 23,
   "id": "87675afc",
   "metadata": {
    "slideshow": {
     "slide_type": "subslide"
    }
   },
   "outputs": [
    {
     "name": "stdout",
     "output_type": "stream",
     "text": [
      "a\n",
      "e\n",
      "s\n"
     ]
    }
   ],
   "source": [
    "\"\"\"Com nomes de variáveis bem escolhidos, o Python às vezes pode ser lido como um texto\n",
    "em inglês. Você pode ler este loop, “para (cada) letra em (a primeira) palavra, se (a) letra\n",
    "(aparecer) em (a segunda) palavra, exiba (a) letra”.\n",
    "Veja o que é apresentado ao se comparar maçãs e laranjas:\"\"\"\n",
    "\n",
    "in_both('apples', 'oranges')"
   ]
  },
  {
   "cell_type": "markdown",
   "id": "6e584a08",
   "metadata": {
    "slideshow": {
     "slide_type": "slide"
    }
   },
   "source": [
    "<div style=\"text-align: center\"><p><h2>Comparação de strings</h2><br></p></div>"
   ]
  },
  {
   "cell_type": "code",
   "execution_count": 30,
   "id": "cc659f09",
   "metadata": {
    "slideshow": {
     "slide_type": "fragment"
    }
   },
   "outputs": [],
   "source": [
    "word = \"pera\"\n",
    "\"\"\"Os operadores relacionais funcionam em strings. Para ver se duas strings são iguais:\"\"\"\n",
    "if word == 'banana':\n",
    "    print('All right, bananas.')"
   ]
  },
  {
   "cell_type": "code",
   "execution_count": 31,
   "id": "6faf6407",
   "metadata": {
    "slideshow": {
     "slide_type": "fragment"
    }
   },
   "outputs": [
    {
     "name": "stdout",
     "output_type": "stream",
     "text": [
      "Your word, pera, comes after banana.\n"
     ]
    }
   ],
   "source": [
    "\"\"\"Outras operações relacionais são úteis para colocar palavras em ordem alfabética:\"\"\"\n",
    "if word < 'banana':\n",
    "    print('Your word, ' + word + ', comes before banana.')\n",
    "elif word > 'banana':\n",
    "    print('Your word, ' + word + ', comes after banana.')\n",
    "else:\n",
    "    print('All right, bananas.')"
   ]
  },
  {
   "cell_type": "markdown",
   "id": "ee50297b",
   "metadata": {
    "slideshow": {
     "slide_type": "subslide"
    }
   },
   "source": [
    "O Python não lida com letras maiúsculas e minúsculas do mesmo jeito que as pessoas.\n",
    "Todas as letras maiúsculas vêm antes de todas as letras minúsculas, portanto:\n",
    "Your word, Pineapple, comes before banana.\n",
    "Uma forma comum de lidar com este problema é converter strings em um formato padrão,\n",
    "como letras minúsculas, antes de executar a comparação. Lembre-se disso caso tenha que\n",
    "se defender de um homem armado com um abacaxi."
   ]
  },
  {
   "cell_type": "markdown",
   "id": "ce1e6e6b",
   "metadata": {
    "slideshow": {
     "slide_type": "slide"
    }
   },
   "source": [
    "<div style=\"text-align: center\"><p><h2>Funções String</h2><br></p></div>"
   ]
  },
  {
   "cell_type": "code",
   "execution_count": 35,
   "id": "b1359b92",
   "metadata": {
    "slideshow": {
     "slide_type": "fragment"
    }
   },
   "outputs": [],
   "source": [
    "s = 'seja bem vindo ao universo de python'"
   ]
  },
  {
   "cell_type": "code",
   "execution_count": 36,
   "id": "a040ef67",
   "metadata": {
    "slideshow": {
     "slide_type": "fragment"
    }
   },
   "outputs": [
    {
     "data": {
      "text/plain": [
       "'Seja bem vindo ao universo de python'"
      ]
     },
     "execution_count": 36,
     "metadata": {},
     "output_type": "execute_result"
    }
   ],
   "source": [
    "s.capitalize()"
   ]
  },
  {
   "cell_type": "code",
   "execution_count": 37,
   "id": "03b45c5e",
   "metadata": {
    "slideshow": {
     "slide_type": "fragment"
    }
   },
   "outputs": [
    {
     "data": {
      "text/plain": [
       "2"
      ]
     },
     "execution_count": 37,
     "metadata": {},
     "output_type": "execute_result"
    }
   ],
   "source": [
    "s.count('a')"
   ]
  },
  {
   "cell_type": "code",
   "execution_count": 38,
   "id": "fdc8e6ff",
   "metadata": {
    "slideshow": {
     "slide_type": "subslide"
    }
   },
   "outputs": [
    {
     "data": {
      "text/plain": [
       "30"
      ]
     },
     "execution_count": 38,
     "metadata": {},
     "output_type": "execute_result"
    }
   ],
   "source": [
    "s.find('p')"
   ]
  },
  {
   "cell_type": "code",
   "execution_count": 39,
   "id": "2ee804f7",
   "metadata": {
    "slideshow": {
     "slide_type": "fragment"
    }
   },
   "outputs": [
    {
     "data": {
      "text/plain": [
       "'seja bem vindo ao universo de python'"
      ]
     },
     "execution_count": 39,
     "metadata": {},
     "output_type": "execute_result"
    }
   ],
   "source": [
    "s.center(20, 'z')"
   ]
  },
  {
   "cell_type": "code",
   "execution_count": 40,
   "id": "47bb443d",
   "metadata": {
    "slideshow": {
     "slide_type": "fragment"
    }
   },
   "outputs": [
    {
     "data": {
      "text/plain": [
       "False"
      ]
     },
     "execution_count": 40,
     "metadata": {},
     "output_type": "execute_result"
    }
   ],
   "source": [
    "s.isalnum()"
   ]
  },
  {
   "cell_type": "code",
   "execution_count": 41,
   "id": "955dec56",
   "metadata": {
    "slideshow": {
     "slide_type": "fragment"
    }
   },
   "outputs": [
    {
     "data": {
      "text/plain": [
       "False"
      ]
     },
     "execution_count": 41,
     "metadata": {},
     "output_type": "execute_result"
    }
   ],
   "source": [
    "s.isalpha()"
   ]
  },
  {
   "cell_type": "code",
   "execution_count": 42,
   "id": "2bd1e659",
   "metadata": {
    "slideshow": {
     "slide_type": "subslide"
    }
   },
   "outputs": [
    {
     "data": {
      "text/plain": [
       "True"
      ]
     },
     "execution_count": 42,
     "metadata": {},
     "output_type": "execute_result"
    }
   ],
   "source": [
    "s.islower()"
   ]
  },
  {
   "cell_type": "code",
   "execution_count": 43,
   "id": "d881a26f",
   "metadata": {
    "slideshow": {
     "slide_type": "fragment"
    }
   },
   "outputs": [
    {
     "data": {
      "text/plain": [
       "False"
      ]
     },
     "execution_count": 43,
     "metadata": {},
     "output_type": "execute_result"
    }
   ],
   "source": [
    "s.isspace()"
   ]
  },
  {
   "cell_type": "code",
   "execution_count": 44,
   "id": "0d92d4d9",
   "metadata": {
    "slideshow": {
     "slide_type": "fragment"
    }
   },
   "outputs": [
    {
     "data": {
      "text/plain": [
       "False"
      ]
     },
     "execution_count": 44,
     "metadata": {},
     "output_type": "execute_result"
    }
   ],
   "source": [
    "s.endswith('o')"
   ]
  },
  {
   "cell_type": "code",
   "execution_count": 45,
   "id": "72b93fd3",
   "metadata": {
    "slideshow": {
     "slide_type": "fragment"
    }
   },
   "outputs": [
    {
     "data": {
      "text/plain": [
       "('seja bem vindo ao universo de python', '', '')"
      ]
     },
     "execution_count": 45,
     "metadata": {},
     "output_type": "execute_result"
    }
   ],
   "source": [
    "s.partition('!')"
   ]
  },
  {
   "cell_type": "markdown",
   "id": "208500cb",
   "metadata": {
    "slideshow": {
     "slide_type": "slide"
    }
   },
   "source": [
    "<div style=\"text-align: center\"><p><h2>Comparando Strings</h2><br></p></div>"
   ]
  },
  {
   "cell_type": "code",
   "execution_count": 47,
   "id": "17ba4401",
   "metadata": {
    "scrolled": true,
    "slideshow": {
     "slide_type": "fragment"
    }
   },
   "outputs": [
    {
     "name": "stdout",
     "output_type": "stream",
     "text": [
      "False\n"
     ]
    }
   ],
   "source": [
    "print(\"Python\" == \"R\")"
   ]
  },
  {
   "cell_type": "code",
   "execution_count": 48,
   "id": "31f0f587",
   "metadata": {
    "slideshow": {
     "slide_type": "fragment"
    }
   },
   "outputs": [
    {
     "name": "stdout",
     "output_type": "stream",
     "text": [
      "True\n"
     ]
    }
   ],
   "source": [
    "print(\"Python\" == \"Python\")"
   ]
  },
  {
   "cell_type": "code",
   "execution_count": 2,
   "id": "388f1a90",
   "metadata": {},
   "outputs": [
    {
     "name": "stdout",
     "output_type": "stream",
     "text": [
      "5\n",
      "1 1 1\n",
      "1 2 2\n",
      "2 4 8\n",
      "2 5 9\n",
      "3 9 27\n",
      "3 10 28\n",
      "4 16 64\n",
      "4 17 65\n",
      "5 25 125\n",
      "5 26 126\n"
     ]
    }
   ],
   "source": [
    "n = int(input())\n",
    "\n",
    "for i in range(1, n + 1):\n",
    "    print(i, i * i, i * i * i)\n",
    "    print(i, i * i+1, i * i * i+1)\n",
    "    "
   ]
  },
  {
   "cell_type": "code",
   "execution_count": null,
   "id": "7ae9b940",
   "metadata": {},
   "outputs": [],
   "source": []
  }
 ],
 "metadata": {
  "celltoolbar": "Slideshow",
  "kernelspec": {
   "display_name": "Python 3 (ipykernel)",
   "language": "python",
   "name": "python3"
  },
  "language_info": {
   "codemirror_mode": {
    "name": "ipython",
    "version": 3
   },
   "file_extension": ".py",
   "mimetype": "text/x-python",
   "name": "python",
   "nbconvert_exporter": "python",
   "pygments_lexer": "ipython3",
   "version": "3.10.8"
  }
 },
 "nbformat": 4,
 "nbformat_minor": 5
}
